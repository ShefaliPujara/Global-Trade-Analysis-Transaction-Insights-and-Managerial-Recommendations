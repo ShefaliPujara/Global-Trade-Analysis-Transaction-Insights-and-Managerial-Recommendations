{
 "cells": [
  {
   "cell_type": "markdown",
   "id": "3cf5fa9b-6b23-480c-8f41-aba9428761de",
   "metadata": {},
   "source": [
    "### **DATA EXPLORATION with Python using Pandas & Numpy Libraries**\n",
    " Student Names: Krishnendu Adhikary and Shefali Pujara\n",
    "\n",
    "Enrollment Numbers: 055022, 055044\n",
    "\n",
    "Group Number: 11\n"
   ]
  },
  {
   "cell_type": "markdown",
   "id": "fbb9b312-dd63-4ff4-9850-1a95ca4d5d3e",
   "metadata": {},
   "source": [
    "### **Description of DATA**\n",
    "\n",
    "This dataset provides detailed information on international trade transactions, capturing both import and export activities. It includes comprehensive data on various aspects of trade, making it a valuable resource for business analysis, economic research, and financial modeling.\n",
    "\n",
    "**Data Source:** https://www.kaggle.com/datasets/chakilamvishwas/imports-exports-15000\n",
    "\n",
    "**Data Size:** 2001 rows × 16 columns\n",
    "\n",
    "**Data Type:** Cross-sectional\n",
    "\n",
    "**Data Dimension:** 16 Variables and 2001 Observations\n",
    "\n",
    "**Data Variable Types:** Text(11), Integer(3), Decimal(2)\n",
    "\n",
    "**Data Variable Category:** \n",
    "\n",
    "Index: Transaction_ID, Invoice_Number\n",
    "\n",
    "Nominal Categorical: Country, Product, Import_Export, Category, Port, Customs_Code, Shipping_Method, Supplier, Customer, Payment_Terms\n",
    "\n",
    "Ordinal Categorical: None\n",
    "\n",
    "Non-Categorical: Quantity, Value, Weight, Date\n",
    "\n"
   ]
  },
  {
   "cell_type": "markdown",
   "id": "46b2d98b-b072-4d71-8b9c-4882e79ee8f2",
   "metadata": {},
   "source": [
    "### **ANALYSIS**\n",
    "\n",
    "Basic descriptive and mathematical or statistical analysis"
   ]
  },
  {
   "cell_type": "code",
   "execution_count": 7,
   "id": "cd199b3b-a6c3-4342-8354-29f605902e60",
   "metadata": {},
   "outputs": [],
   "source": [
    "#Importing all required libraries\n",
    "import os\n",
    "import pandas as pd\n",
    "import numpy as np\n",
    "\n",
    "#Loading the dataset\n",
    "dataset=pd.read_csv(\"D:\\\\MBA materials\\\\Trimester 1\\\\DEVP(AMitra)\\\\Imports_Exports_Dataset.csv\")"
   ]
  },
  {
   "cell_type": "code",
   "execution_count": 12,
   "id": "01cdb740-04fe-480e-a0cf-97461f81a763",
   "metadata": {},
   "outputs": [
    {
     "data": {
      "text/html": [
       "<div>\n",
       "<style scoped>\n",
       "    .dataframe tbody tr th:only-of-type {\n",
       "        vertical-align: middle;\n",
       "    }\n",
       "\n",
       "    .dataframe tbody tr th {\n",
       "        vertical-align: top;\n",
       "    }\n",
       "\n",
       "    .dataframe thead th {\n",
       "        text-align: right;\n",
       "    }\n",
       "</style>\n",
       "<table border=\"1\" class=\"dataframe\">\n",
       "  <thead>\n",
       "    <tr style=\"text-align: right;\">\n",
       "      <th></th>\n",
       "      <th>Transaction_ID</th>\n",
       "      <th>Country</th>\n",
       "      <th>Product</th>\n",
       "      <th>Import_Export</th>\n",
       "      <th>Quantity</th>\n",
       "      <th>Value</th>\n",
       "      <th>Date</th>\n",
       "      <th>Category</th>\n",
       "      <th>Port</th>\n",
       "      <th>Customs_Code</th>\n",
       "      <th>Weight</th>\n",
       "      <th>Shipping_Method</th>\n",
       "      <th>Supplier</th>\n",
       "      <th>Customer</th>\n",
       "      <th>Invoice_Number</th>\n",
       "      <th>Payment_Terms</th>\n",
       "    </tr>\n",
       "  </thead>\n",
       "  <tbody>\n",
       "    <tr>\n",
       "      <th>7345</th>\n",
       "      <td>b28b7985-9865-4611-a189-1f6154999009</td>\n",
       "      <td>Germany</td>\n",
       "      <td>woman</td>\n",
       "      <td>Export</td>\n",
       "      <td>4402</td>\n",
       "      <td>2506.89</td>\n",
       "      <td>19-04-2020</td>\n",
       "      <td>Electronics</td>\n",
       "      <td>Lake Ericachester</td>\n",
       "      <td>590842</td>\n",
       "      <td>1862.12</td>\n",
       "      <td>Sea</td>\n",
       "      <td>Schneider, Hicks and Potter</td>\n",
       "      <td>Taylor Christian</td>\n",
       "      <td>70000162</td>\n",
       "      <td>Net 60</td>\n",
       "    </tr>\n",
       "    <tr>\n",
       "      <th>205</th>\n",
       "      <td>6238d0a0-cf5e-4ea3-a258-4ab368777bab</td>\n",
       "      <td>Costa Rica</td>\n",
       "      <td>day</td>\n",
       "      <td>Import</td>\n",
       "      <td>4638</td>\n",
       "      <td>2119.37</td>\n",
       "      <td>25-09-2023</td>\n",
       "      <td>Machinery</td>\n",
       "      <td>Amandatown</td>\n",
       "      <td>856709</td>\n",
       "      <td>1457.77</td>\n",
       "      <td>Land</td>\n",
       "      <td>Herrera, Chang and Farrell</td>\n",
       "      <td>Brittany Lee</td>\n",
       "      <td>88203466</td>\n",
       "      <td>Prepaid</td>\n",
       "    </tr>\n",
       "    <tr>\n",
       "      <th>5146</th>\n",
       "      <td>0d0c61fd-4700-4eb8-b408-850e0fdc26f4</td>\n",
       "      <td>Chile</td>\n",
       "      <td>group</td>\n",
       "      <td>Import</td>\n",
       "      <td>1696</td>\n",
       "      <td>795.01</td>\n",
       "      <td>18-12-2021</td>\n",
       "      <td>Machinery</td>\n",
       "      <td>South Kennethburgh</td>\n",
       "      <td>531811</td>\n",
       "      <td>3899.05</td>\n",
       "      <td>Sea</td>\n",
       "      <td>Pratt Ltd</td>\n",
       "      <td>Thomas Hartman DVM</td>\n",
       "      <td>24718885</td>\n",
       "      <td>Net 30</td>\n",
       "    </tr>\n",
       "    <tr>\n",
       "      <th>5540</th>\n",
       "      <td>0c4a3950-345d-4816-80ed-b229b6b54cde</td>\n",
       "      <td>Ghana</td>\n",
       "      <td>want</td>\n",
       "      <td>Import</td>\n",
       "      <td>846</td>\n",
       "      <td>3943.25</td>\n",
       "      <td>20-12-2021</td>\n",
       "      <td>Toys</td>\n",
       "      <td>Tylershire</td>\n",
       "      <td>903558</td>\n",
       "      <td>686.79</td>\n",
       "      <td>Sea</td>\n",
       "      <td>Hughes-Sweeney</td>\n",
       "      <td>Michelle Kirby</td>\n",
       "      <td>93019204</td>\n",
       "      <td>Net 30</td>\n",
       "    </tr>\n",
       "    <tr>\n",
       "      <th>4499</th>\n",
       "      <td>f89d4123-1718-490a-80f6-2b31c5b0bb0d</td>\n",
       "      <td>Bhutan</td>\n",
       "      <td>finish</td>\n",
       "      <td>Import</td>\n",
       "      <td>6191</td>\n",
       "      <td>4624.25</td>\n",
       "      <td>09-06-2020</td>\n",
       "      <td>Furniture</td>\n",
       "      <td>Stephanietown</td>\n",
       "      <td>202687</td>\n",
       "      <td>906.43</td>\n",
       "      <td>Sea</td>\n",
       "      <td>Salazar Group</td>\n",
       "      <td>Anthony Wiley</td>\n",
       "      <td>31583917</td>\n",
       "      <td>Prepaid</td>\n",
       "    </tr>\n",
       "    <tr>\n",
       "      <th>4775</th>\n",
       "      <td>3c6a7d4a-384f-4130-a288-137e2889d205</td>\n",
       "      <td>Botswana</td>\n",
       "      <td>eat</td>\n",
       "      <td>Export</td>\n",
       "      <td>1215</td>\n",
       "      <td>2537.15</td>\n",
       "      <td>17-04-2021</td>\n",
       "      <td>Machinery</td>\n",
       "      <td>Jonshire</td>\n",
       "      <td>730560</td>\n",
       "      <td>3733.84</td>\n",
       "      <td>Land</td>\n",
       "      <td>Moore, Blake and Li</td>\n",
       "      <td>Pamela Diaz</td>\n",
       "      <td>96813919</td>\n",
       "      <td>Cash on Delivery</td>\n",
       "    </tr>\n",
       "    <tr>\n",
       "      <th>13628</th>\n",
       "      <td>0bdf0b4d-5a1e-4543-8e41-4af89e36eb88</td>\n",
       "      <td>Korea</td>\n",
       "      <td>series</td>\n",
       "      <td>Export</td>\n",
       "      <td>8544</td>\n",
       "      <td>4153.00</td>\n",
       "      <td>24-06-2024</td>\n",
       "      <td>Electronics</td>\n",
       "      <td>North Zachary</td>\n",
       "      <td>140552</td>\n",
       "      <td>1755.24</td>\n",
       "      <td>Land</td>\n",
       "      <td>Patel Group</td>\n",
       "      <td>Sara Erickson</td>\n",
       "      <td>51300134</td>\n",
       "      <td>Cash on Delivery</td>\n",
       "    </tr>\n",
       "    <tr>\n",
       "      <th>4111</th>\n",
       "      <td>7d5a1b03-d8ac-4d06-8428-3ad0df038544</td>\n",
       "      <td>Singapore</td>\n",
       "      <td>whom</td>\n",
       "      <td>Import</td>\n",
       "      <td>9844</td>\n",
       "      <td>7277.94</td>\n",
       "      <td>12-04-2024</td>\n",
       "      <td>Electronics</td>\n",
       "      <td>Craighaven</td>\n",
       "      <td>853364</td>\n",
       "      <td>447.79</td>\n",
       "      <td>Air</td>\n",
       "      <td>Morris-Boyd</td>\n",
       "      <td>Rachael Warner</td>\n",
       "      <td>23648012</td>\n",
       "      <td>Net 60</td>\n",
       "    </tr>\n",
       "    <tr>\n",
       "      <th>1858</th>\n",
       "      <td>5eabd8f7-1782-44e8-8cb7-71b1e922ba0a</td>\n",
       "      <td>Oman</td>\n",
       "      <td>data</td>\n",
       "      <td>Export</td>\n",
       "      <td>514</td>\n",
       "      <td>5667.46</td>\n",
       "      <td>28-05-2024</td>\n",
       "      <td>Furniture</td>\n",
       "      <td>Hillville</td>\n",
       "      <td>117188</td>\n",
       "      <td>1359.34</td>\n",
       "      <td>Sea</td>\n",
       "      <td>Barrett, Hughes and Hudson</td>\n",
       "      <td>Austin Lewis</td>\n",
       "      <td>75486163</td>\n",
       "      <td>Net 60</td>\n",
       "    </tr>\n",
       "    <tr>\n",
       "      <th>9521</th>\n",
       "      <td>12f671b0-2f22-40b6-89fc-7de9d7e7d52f</td>\n",
       "      <td>Faroe Islands</td>\n",
       "      <td>consumer</td>\n",
       "      <td>Export</td>\n",
       "      <td>2560</td>\n",
       "      <td>9474.11</td>\n",
       "      <td>08-10-2022</td>\n",
       "      <td>Clothing</td>\n",
       "      <td>Port Peterfurt</td>\n",
       "      <td>473488</td>\n",
       "      <td>1236.42</td>\n",
       "      <td>Sea</td>\n",
       "      <td>Arnold Inc</td>\n",
       "      <td>Mr. Thomas Mcbride DVM</td>\n",
       "      <td>60059429</td>\n",
       "      <td>Prepaid</td>\n",
       "    </tr>\n",
       "  </tbody>\n",
       "</table>\n",
       "</div>"
      ],
      "text/plain": [
       "                             Transaction_ID        Country   Product  \\\n",
       "7345   b28b7985-9865-4611-a189-1f6154999009        Germany     woman   \n",
       "205    6238d0a0-cf5e-4ea3-a258-4ab368777bab     Costa Rica       day   \n",
       "5146   0d0c61fd-4700-4eb8-b408-850e0fdc26f4          Chile     group   \n",
       "5540   0c4a3950-345d-4816-80ed-b229b6b54cde          Ghana      want   \n",
       "4499   f89d4123-1718-490a-80f6-2b31c5b0bb0d         Bhutan    finish   \n",
       "4775   3c6a7d4a-384f-4130-a288-137e2889d205       Botswana       eat   \n",
       "13628  0bdf0b4d-5a1e-4543-8e41-4af89e36eb88          Korea    series   \n",
       "4111   7d5a1b03-d8ac-4d06-8428-3ad0df038544      Singapore      whom   \n",
       "1858   5eabd8f7-1782-44e8-8cb7-71b1e922ba0a           Oman      data   \n",
       "9521   12f671b0-2f22-40b6-89fc-7de9d7e7d52f  Faroe Islands  consumer   \n",
       "\n",
       "      Import_Export  Quantity    Value        Date     Category  \\\n",
       "7345         Export      4402  2506.89  19-04-2020  Electronics   \n",
       "205          Import      4638  2119.37  25-09-2023    Machinery   \n",
       "5146         Import      1696   795.01  18-12-2021    Machinery   \n",
       "5540         Import       846  3943.25  20-12-2021         Toys   \n",
       "4499         Import      6191  4624.25  09-06-2020    Furniture   \n",
       "4775         Export      1215  2537.15  17-04-2021    Machinery   \n",
       "13628        Export      8544  4153.00  24-06-2024  Electronics   \n",
       "4111         Import      9844  7277.94  12-04-2024  Electronics   \n",
       "1858         Export       514  5667.46  28-05-2024    Furniture   \n",
       "9521         Export      2560  9474.11  08-10-2022     Clothing   \n",
       "\n",
       "                     Port  Customs_Code   Weight Shipping_Method  \\\n",
       "7345    Lake Ericachester        590842  1862.12             Sea   \n",
       "205            Amandatown        856709  1457.77            Land   \n",
       "5146   South Kennethburgh        531811  3899.05             Sea   \n",
       "5540           Tylershire        903558   686.79             Sea   \n",
       "4499        Stephanietown        202687   906.43             Sea   \n",
       "4775             Jonshire        730560  3733.84            Land   \n",
       "13628       North Zachary        140552  1755.24            Land   \n",
       "4111           Craighaven        853364   447.79             Air   \n",
       "1858            Hillville        117188  1359.34             Sea   \n",
       "9521       Port Peterfurt        473488  1236.42             Sea   \n",
       "\n",
       "                          Supplier                Customer  Invoice_Number  \\\n",
       "7345   Schneider, Hicks and Potter        Taylor Christian        70000162   \n",
       "205     Herrera, Chang and Farrell            Brittany Lee        88203466   \n",
       "5146                     Pratt Ltd      Thomas Hartman DVM        24718885   \n",
       "5540                Hughes-Sweeney          Michelle Kirby        93019204   \n",
       "4499                 Salazar Group           Anthony Wiley        31583917   \n",
       "4775           Moore, Blake and Li             Pamela Diaz        96813919   \n",
       "13628                  Patel Group           Sara Erickson        51300134   \n",
       "4111                   Morris-Boyd          Rachael Warner        23648012   \n",
       "1858    Barrett, Hughes and Hudson            Austin Lewis        75486163   \n",
       "9521                    Arnold Inc  Mr. Thomas Mcbride DVM        60059429   \n",
       "\n",
       "          Payment_Terms  \n",
       "7345             Net 60  \n",
       "205             Prepaid  \n",
       "5146             Net 30  \n",
       "5540             Net 30  \n",
       "4499            Prepaid  \n",
       "4775   Cash on Delivery  \n",
       "13628  Cash on Delivery  \n",
       "4111             Net 60  \n",
       "1858             Net 60  \n",
       "9521            Prepaid  "
      ]
     },
     "execution_count": 12,
     "metadata": {},
     "output_type": "execute_result"
    }
   ],
   "source": [
    "#Taking the sample dataset\n",
    "dtsample=dataset.sample(n=2001 , random_state=2244)\n",
    "dtsample.head(10)"
   ]
  },
  {
   "cell_type": "markdown",
   "id": "a466b4f8-cb46-4c02-b8a3-bdcd625d0283",
   "metadata": {},
   "source": [
    "**1. What is the minimum quantity shipped in any transaction?**"
   ]
  },
  {
   "cell_type": "code",
   "execution_count": 206,
   "id": "c30952c7-53a6-4e53-9216-358d2adf2fb4",
   "metadata": {},
   "outputs": [
    {
     "name": "stdout",
     "output_type": "stream",
     "text": [
      "The minimum quantity shipped in any transaction: 1\n"
     ]
    }
   ],
   "source": [
    "Min= dtsample['Quantity'].min()\n",
    "print('The minimum quantity shipped in any transaction:', Min)"
   ]
  },
  {
   "cell_type": "markdown",
   "id": "d5a45fc0-f908-4cf0-87ee-e2e46b75f15d",
   "metadata": {},
   "source": [
    "**2. What is the maximum weight of goods shipped across all transactions?**"
   ]
  },
  {
   "cell_type": "code",
   "execution_count": 207,
   "id": "4919a1f7-fe41-4b8c-a3cd-12e4dadf3b83",
   "metadata": {},
   "outputs": [
    {
     "name": "stdout",
     "output_type": "stream",
     "text": [
      "The maximum weight of goods shipped across all transactions: 4995.7\n"
     ]
    }
   ],
   "source": [
    "Max= dtsample['Weight'].max()\n",
    "print('The maximum weight of goods shipped across all transactions:', Max)"
   ]
  },
  {
   "cell_type": "markdown",
   "id": "9301e96f-7bee-49e6-b32c-11c78dd9f86c",
   "metadata": {},
   "source": [
    "**3. What is the average value of exports and imports?**"
   ]
  },
  {
   "cell_type": "code",
   "execution_count": 208,
   "id": "9c9d32b1-c50a-480a-abfa-d025ef0291cd",
   "metadata": {},
   "outputs": [
    {
     "name": "stdout",
     "output_type": "stream",
     "text": [
      "The average value of exports and imports: 5015.6328035982015\n"
     ]
    }
   ],
   "source": [
    "avg= dtsample['Value'].mean()\n",
    "print('The average value of exports and imports:', avg)"
   ]
  },
  {
   "cell_type": "markdown",
   "id": "90406742-c00b-4422-9bc2-8cb9ba733ea6",
   "metadata": {},
   "source": [
    "**4. What is the median quantity of products in the transactions?**"
   ]
  },
  {
   "cell_type": "code",
   "execution_count": 209,
   "id": "65d7a22d-0046-4c60-800f-1bc050824c39",
   "metadata": {},
   "outputs": [
    {
     "name": "stdout",
     "output_type": "stream",
     "text": [
      "The median quantity of products in the transactions: 4871.0\n"
     ]
    }
   ],
   "source": [
    "med= dtsample['Quantity'].median()\n",
    "print('The median quantity of products in the transactions:', med)"
   ]
  },
  {
   "cell_type": "markdown",
   "id": "4bcc9f69-b8ac-4959-8703-f1371353bd21",
   "metadata": {},
   "source": [
    "**5. What is the most common transaction values in this dataset?**"
   ]
  },
  {
   "cell_type": "code",
   "execution_count": 14,
   "id": "5955d4e7-1781-436c-9bcd-718f879c88dd",
   "metadata": {},
   "outputs": [
    {
     "name": "stdout",
     "output_type": "stream",
     "text": [
      "The most common transaction values in this dataset:\n",
      "0     241.83\n",
      "1    4338.20\n",
      "2    9295.66\n",
      "Name: Value, dtype: float64\n"
     ]
    }
   ],
   "source": [
    "mode= dtsample['Value'].mode()\n",
    "print('The most common transaction values in this dataset:')\n",
    "print(mode)"
   ]
  },
  {
   "cell_type": "markdown",
   "id": "52828cbd-6282-4fab-955e-d4c6ffcede84",
   "metadata": {},
   "source": [
    "**6. What is the 75th percentile of transaction values in this dataset?**"
   ]
  },
  {
   "cell_type": "code",
   "execution_count": 211,
   "id": "82893aa4-b4dc-4a14-9de3-6614b6efb7c5",
   "metadata": {},
   "outputs": [
    {
     "name": "stdout",
     "output_type": "stream",
     "text": [
      "The 75th percentile of transaction values in this dataset: 7459.23\n"
     ]
    }
   ],
   "source": [
    "q3= dtsample['Value'].quantile(0.75)\n",
    "print('The 75th percentile of transaction values in this dataset:', q3)"
   ]
  },
  {
   "cell_type": "markdown",
   "id": "a91f9ae5-98d1-4c92-ba95-0c5ce146f9b1",
   "metadata": {},
   "source": [
    "**7. What is the range of product weights in the dataset?**"
   ]
  },
  {
   "cell_type": "code",
   "execution_count": 212,
   "id": "e04af05f-1e9c-44e7-9cea-314592c2ac9c",
   "metadata": {},
   "outputs": [
    {
     "name": "stdout",
     "output_type": "stream",
     "text": [
      "The range of product weights in the dataset: 4994.179999999999\n"
     ]
    }
   ],
   "source": [
    "range= (dtsample['Weight'].max() - dtsample['Weight'].min())\n",
    "print('The range of product weights in the dataset:', range)"
   ]
  },
  {
   "cell_type": "markdown",
   "id": "a2a69acd-5f38-497c-a776-bf6e8cf0c29b",
   "metadata": {},
   "source": [
    "**8. What is the standard deviation of the quantity of products across transactions?**"
   ]
  },
  {
   "cell_type": "code",
   "execution_count": 213,
   "id": "cbe4fa1b-c02c-4701-90f7-441411d5654e",
   "metadata": {},
   "outputs": [
    {
     "name": "stdout",
     "output_type": "stream",
     "text": [
      "The standard deviation of the quantity of products across transactions: 2846.1893173333433\n"
     ]
    }
   ],
   "source": [
    "sd= dtsample['Quantity'].std()\n",
    "print('The standard deviation of the quantity of products across transactions:', sd)"
   ]
  },
  {
   "cell_type": "markdown",
   "id": "578fe2b8-d096-48e0-bcd7-f809d176605d",
   "metadata": {},
   "source": [
    "**9. Is the distribution of the total transaction value skewed?**"
   ]
  },
  {
   "cell_type": "code",
   "execution_count": 214,
   "id": "e4424aed-4329-4672-8a5d-8bb40a4b95ab",
   "metadata": {},
   "outputs": [
    {
     "name": "stdout",
     "output_type": "stream",
     "text": [
      "The value of skewness: 0.049914786003225936\n",
      "Yes. The distribution of the total transaction value is positively skewed.\n"
     ]
    }
   ],
   "source": [
    "skew= dtsample['Value'].skew()\n",
    "if skew>0:\n",
    "    print('The value of skewness:', skew)\n",
    "    print('Yes. The distribution of the total transaction value is positively skewed.')\n",
    "elif skew==0:\n",
    "    print('The value of skewness:', skew)\n",
    "    print('No. The distribution of the total transaction value is not skewed.')\n",
    "else:\n",
    "    print('The value of skewness:', skew)\n",
    "    print('Yes. The distribution of the total transaction value is negatively skewed.')"
   ]
  },
  {
   "cell_type": "markdown",
   "id": "e9fbf954-9ada-4acb-8893-1acc96b4c8b9",
   "metadata": {},
   "source": [
    "**10. How peaked or flat is the distribution of the transaction values?**"
   ]
  },
  {
   "cell_type": "code",
   "execution_count": 215,
   "id": "d01c020e-a8d1-4c03-b407-1d824def7da4",
   "metadata": {},
   "outputs": [
    {
     "name": "stdout",
     "output_type": "stream",
     "text": [
      "The value of Kurtosis: -1.2128780317794574\n",
      "Type of Kurtosis: Platykurtic\n"
     ]
    }
   ],
   "source": [
    "kurt= dtsample['Value'].kurtosis()\n",
    "if kurt>3:\n",
    "    print('The value of Kurtosis:', kurt)\n",
    "    print('Type of Kurtosis: Leptokurtic')\n",
    "elif kurt==3:\n",
    "    print('The value of Kurtosis:', kurt)\n",
    "    print('Type of Kurtosis: Mesokurtic')\n",
    "else:\n",
    "    print('The value of Kurtosis:', kurt)\n",
    "    print('Type of Kurtosis: Platykurtic')"
   ]
  },
  {
   "cell_type": "markdown",
   "id": "1f09318e-c283-43a4-bdd4-2e17103736ca",
   "metadata": {},
   "source": [
    "**11. Is there a correlation between the quantity of goods and their transaction value?**"
   ]
  },
  {
   "cell_type": "code",
   "execution_count": 216,
   "id": "0ceb0491-1fc5-4c52-af1e-833624d5db45",
   "metadata": {},
   "outputs": [
    {
     "name": "stdout",
     "output_type": "stream",
     "text": [
      "The value of correlation: -0.04082038843265241\n",
      "Type of Correlation: Negative\n"
     ]
    }
   ],
   "source": [
    "corr = dtsample['Quantity'].corr(dtsample['Value'])\n",
    "if corr>0:\n",
    "    print('The value of correlation:', corr)\n",
    "    print('Type of Correlation: Positive')\n",
    "elif corr==0:\n",
    "    print('The value of correlation:', corr)\n",
    "    print('Type of Correlation: No Correlation')\n",
    "else:\n",
    "    print('The value of correlation:', corr)\n",
    "    print('Type of Correlation: Negative')"
   ]
  },
  {
   "cell_type": "markdown",
   "id": "d05ec0dd-0a31-4a79-b21f-a9a7a0c10550",
   "metadata": {},
   "source": [
    "**12. What is the coefficient of variation for transaction values?**"
   ]
  },
  {
   "cell_type": "code",
   "execution_count": 217,
   "id": "dadee479-2c94-450f-a97e-732688d9b536",
   "metadata": {},
   "outputs": [
    {
     "name": "stdout",
     "output_type": "stream",
     "text": [
      "Coefficient of Variation of Transaction Values: 0.5717370617535402\n"
     ]
    }
   ],
   "source": [
    "coef = dtsample['Value'].std() / dtsample['Value'].mean()\n",
    "print('Coefficient of Variation of Transaction Values:', coef)"
   ]
  },
  {
   "cell_type": "markdown",
   "id": "2c24a24b-4aee-40c9-aaf8-ebbe67deff85",
   "metadata": {},
   "source": [
    "**13. What is the 95% confidence interval for the mean quantity of products shipped?**"
   ]
  },
  {
   "cell_type": "code",
   "execution_count": 218,
   "id": "2237dd6f-07f2-43b1-9dcc-c45f6de6f867",
   "metadata": {},
   "outputs": [
    {
     "name": "stdout",
     "output_type": "stream",
     "text": [
      "95% Confidence Interval for Mean Quantity: (4803.557086420671, 5052.969650211013)\n"
     ]
    }
   ],
   "source": [
    "import scipy.stats as stats\n",
    "\n",
    "# Calculating the 95% confidence interval for the mean of quantity\n",
    "confidence_level = 0.95\n",
    "sample_size = len(dtsample['Quantity'])\n",
    "sample_mean = dtsample['Quantity'].mean()\n",
    "sample_std = dtsample['Quantity'].std()\n",
    "\n",
    "z_critical = stats.norm.ppf(q = 0.975)  # Z-value for 95% confidence interval\n",
    "margin_of_error = z_critical * (sample_std / (sample_size**0.5))\n",
    "\n",
    "confidence_interval = (sample_mean - margin_of_error, sample_mean + margin_of_error)\n",
    "print('95% Confidence Interval for Mean Quantity:' , confidence_interval)"
   ]
  },
  {
   "cell_type": "markdown",
   "id": "972546dd-d7a5-4c3e-82e4-c98203648b44",
   "metadata": {},
   "source": [
    "**14. How many unique countries are involved in these transactions?**"
   ]
  },
  {
   "cell_type": "code",
   "execution_count": 219,
   "id": "77981324-019e-49a3-9cac-d7815b40afa5",
   "metadata": {},
   "outputs": [
    {
     "name": "stdout",
     "output_type": "stream",
     "text": [
      "Number of Unique Countries: 243\n"
     ]
    }
   ],
   "source": [
    "unique_countries = dtsample['Country'].nunique()\n",
    "print('Number of Unique Countries:' , unique_countries)"
   ]
  },
  {
   "cell_type": "markdown",
   "id": "4ff52c68-d8ee-4d5e-a9d0-8393c3e906fc",
   "metadata": {},
   "source": [
    "**15. Which product is traded most frequently?**"
   ]
  },
  {
   "cell_type": "code",
   "execution_count": 220,
   "id": "7aa1efee-5f63-44f3-aa53-709752855c06",
   "metadata": {},
   "outputs": [
    {
     "name": "stdout",
     "output_type": "stream",
     "text": [
      "Most Frequent Product: bank\n"
     ]
    }
   ],
   "source": [
    "most_frequent_product = dtsample['Product'].mode()[0]\n",
    "print('Most Frequent Product:', most_frequent_product)"
   ]
  },
  {
   "cell_type": "markdown",
   "id": "ac626445-e319-4902-9400-fe4381d55d74",
   "metadata": {},
   "source": [
    "**16. What proportion of the transactions are exports vs. imports?**"
   ]
  },
  {
   "cell_type": "code",
   "execution_count": 221,
   "id": "c59c4dc4-e97d-4957-9f2b-9ca00212e2f4",
   "metadata": {},
   "outputs": [
    {
     "name": "stdout",
     "output_type": "stream",
     "text": [
      "Proportion of Exports: 48.5%\n",
      "Proportion of Imports: 51.5%\n"
     ]
    }
   ],
   "source": [
    "proportion_exports = (dtsample['Import_Export'] == 'Export').mean()\n",
    "proportion_imports = (dtsample['Import_Export'] == 'Import').mean()\n",
    "prop_exp = round(proportion_exports, 3)\n",
    "prop_imp = round(proportion_imports, 3)\n",
    "print(f\"Proportion of Exports: {prop_exp * 100}%\"),\n",
    "print(f\"Proportion of Imports: {prop_imp * 100}%\")"
   ]
  },
  {
   "cell_type": "markdown",
   "id": "4627fafb-31ab-4063-8fe2-a6382f72870a",
   "metadata": {},
   "source": [
    "**17. Which shipping method was used the least across all transactions?**"
   ]
  },
  {
   "cell_type": "code",
   "execution_count": 222,
   "id": "544cf3d0-486f-4328-a52b-497fb72cb5b6",
   "metadata": {},
   "outputs": [
    {
     "name": "stdout",
     "output_type": "stream",
     "text": [
      "Least Used Shipping Method: Land\n"
     ]
    }
   ],
   "source": [
    "least_used_shipping = dtsample['Shipping_Method'].value_counts().idxmin()\n",
    "print('Least Used Shipping Method:', least_used_shipping)"
   ]
  },
  {
   "cell_type": "markdown",
   "id": "f0f99de2-b955-43ae-9a80-2953b3662bdc",
   "metadata": {},
   "source": [
    "**18. Which country has the highest number of transactions?**"
   ]
  },
  {
   "cell_type": "code",
   "execution_count": 223,
   "id": "729f4034-7f44-46c8-8b48-150dccc4286b",
   "metadata": {},
   "outputs": [
    {
     "name": "stdout",
     "output_type": "stream",
     "text": [
      "Country with the Most Transactions: Congo\n"
     ]
    }
   ],
   "source": [
    "country_with_max_transactions = dtsample['Country'].value_counts().idxmax()\n",
    "print('Country with the Most Transactions:', country_with_max_transactions)"
   ]
  },
  {
   "cell_type": "markdown",
   "id": "3f84a047-47ad-4e47-a701-6f80f12582a1",
   "metadata": {},
   "source": [
    "**19. What is the most common shipping method used for transactions?**"
   ]
  },
  {
   "cell_type": "code",
   "execution_count": 224,
   "id": "172d41da-a281-4df6-8596-2e34e7e44349",
   "metadata": {},
   "outputs": [
    {
     "name": "stdout",
     "output_type": "stream",
     "text": [
      "Most Common Shipping Method: Air\n"
     ]
    }
   ],
   "source": [
    "most_common_shipping = dtsample['Shipping_Method'].mode()[0]\n",
    "print('Most Common Shipping Method:', most_common_shipping)"
   ]
  },
  {
   "cell_type": "markdown",
   "id": "ada2d145-a462-4a04-aed5-2497d727d463",
   "metadata": {},
   "source": [
    "**20. Rank the Top 10 countries based on the total value of goods traded.**"
   ]
  },
  {
   "cell_type": "code",
   "execution_count": 225,
   "id": "93aa7fb2-2a78-4865-b055-b83c357fe866",
   "metadata": {},
   "outputs": [
    {
     "name": "stdout",
     "output_type": "stream",
     "text": [
      "Top 10 Ranked Countries by Total Value: \n",
      "Country\n",
      "Congo                               128801.65\n",
      "New Zealand                          96808.21\n",
      "Papua New Guinea                     84352.79\n",
      "Costa Rica                           82931.08\n",
      "Korea                                80972.61\n",
      "Romania                              79649.01\n",
      "Saint Vincent and the Grenadines     79219.23\n",
      "Comoros                              79127.12\n",
      "Indonesia                            77978.79\n",
      "Vietnam                              77446.54\n",
      "Name: Value, dtype: float64\n"
     ]
    }
   ],
   "source": [
    "ranked_countries = dtsample.groupby('Country')['Value'].sum().sort_values(ascending=False)\n",
    "top10= ranked_countries.head(10)\n",
    "print(f\"Top 10 Ranked Countries by Total Value: \\n{top10}\")"
   ]
  },
  {
   "cell_type": "markdown",
   "id": "b77b5f90-473e-4102-a864-c8e1633c8f35",
   "metadata": {},
   "source": [
    "**21. Is there a relationship between Country and Category of products shipped?**"
   ]
  },
  {
   "cell_type": "code",
   "execution_count": 226,
   "id": "e11a2786-aa80-4364-99a2-1fea190cba08",
   "metadata": {},
   "outputs": [
    {
     "name": "stdout",
     "output_type": "stream",
     "text": [
      "p-value: 0.19102098265359746\n",
      "Fail to reject the null hypothesis: No significant relationship between country and product category.\n"
     ]
    }
   ],
   "source": [
    "from scipy.stats import chi2_contingency\n",
    "\n",
    "# Create a contingency table\n",
    "contingency_table = pd.crosstab(dtsample['Country'], dtsample['Category'])\n",
    "\n",
    "# Perform Chi-Square Test of Independence\n",
    "chi2_stat, p_value, dof, expected = chi2_contingency(contingency_table)\n",
    "\n",
    "if p_value < 0.05:\n",
    "    print(f\"p-value: {p_value}\")\n",
    "    print(\"Reject the null hypothesis: There is a significant relationship between country and product category.\")\n",
    "else:\n",
    "    print(f\"p-value: {p_value}\")\n",
    "    print(\"Fail to reject the null hypothesis: No significant relationship between country and product category.\")"
   ]
  },
  {
   "cell_type": "markdown",
   "id": "0bcb2e7b-4ff4-45aa-bae5-84386489fc6b",
   "metadata": {},
   "source": [
    "**22. Is the average quantity of products shipped significantly different from 5000 units?**"
   ]
  },
  {
   "cell_type": "code",
   "execution_count": 227,
   "id": "43502933-8b10-48fa-9890-ecf1f43814b7",
   "metadata": {},
   "outputs": [
    {
     "name": "stdout",
     "output_type": "stream",
     "text": [
      "p-value: 0.25968372632163167\n",
      "Fail to reject the null hypothesis: The average quantity is not significantly different from 5000 units.\n"
     ]
    }
   ],
   "source": [
    "from scipy import stats\n",
    "\n",
    "# Define the null hypothesis: mean quantity = 5000\n",
    "t_stat, p_value = stats.ttest_1samp(dtsample['Quantity'], 5000)\n",
    "\n",
    "if p_value < 0.05:\n",
    "    print(f\"p-value: {p_value}\")\n",
    "    print(\"Reject the null hypothesis: The average quantity is significantly different from 5000 units.\")\n",
    "else:\n",
    "    print(f\"p-value: {p_value}\")\n",
    "    print(\"Fail to reject the null hypothesis: The average quantity is not significantly different from 5000 units.\")"
   ]
  },
  {
   "cell_type": "markdown",
   "id": "c031c2ba-35da-4978-8e3a-aabba5ff49c2",
   "metadata": {},
   "source": [
    "**23. Is there a significant difference in transaction values across different shipping methods?**"
   ]
  },
  {
   "cell_type": "code",
   "execution_count": 228,
   "id": "e3a4ef4a-91ef-489d-9485-c995fbe32ab6",
   "metadata": {},
   "outputs": [
    {
     "name": "stdout",
     "output_type": "stream",
     "text": [
      "p-value: 0.3310634793545532\n",
      "Fail to reject the null hypothesis: No significant difference in transaction values across shipping methods.\n"
     ]
    }
   ],
   "source": [
    "# Perform one-way ANOVA across different shipping methods\n",
    "anova_stat, anova_p_value = stats.f_oneway(\n",
    "    dtsample[dtsample['Shipping_Method'] == 'Sea']['Value'],\n",
    "    dtsample[dtsample['Shipping_Method'] == 'Land']['Value'],\n",
    "    dtsample[dtsample['Shipping_Method'] == 'Air']['Value']\n",
    ")\n",
    "\n",
    "if anova_p_value < 0.05:\n",
    "    print(f\"p-value: {anova_p_value}\")\n",
    "    print(\"Reject the null hypothesis: There is a significant difference in transaction values across shipping methods.\")\n",
    "else:\n",
    "    print(f\"p-value: {anova_p_value}\")\n",
    "    print(\"Fail to reject the null hypothesis: No significant difference in transaction values across shipping methods.\")"
   ]
  },
  {
   "cell_type": "markdown",
   "id": "7d072f7b-7c40-4634-8d26-36a089575438",
   "metadata": {},
   "source": [
    "**24. Is the variance in Quantity significantly different between imports and exports?**"
   ]
  },
  {
   "cell_type": "code",
   "execution_count": 229,
   "id": "7c8407f9-8014-4882-83e3-919b75b43f10",
   "metadata": {},
   "outputs": [
    {
     "name": "stdout",
     "output_type": "stream",
     "text": [
      "The p-value is 0.2241854127277818. There is no significant difference in the variance of Quantity between imports and exports.\n"
     ]
    }
   ],
   "source": [
    "from scipy.stats import levene\n",
    "\n",
    "# Separate data into imports and exports\n",
    "import_data = dtsample[dtsample['Import_Export'] == 'Import']['Quantity']\n",
    "export_data = dtsample[dtsample['Import_Export'] == 'Export']['Quantity']\n",
    "\n",
    "# Perform Levene's test for equal variances\n",
    "levene_stat, p_value = levene(import_data, export_data)\n",
    "\n",
    "# Evaluate result\n",
    "if p_value < 0.05:\n",
    "    print(f\"The p-value is {p_value}. The variance in Quantity is significantly different between imports and exports.\")\n",
    "else:\n",
    "    print(f\"The p-value is {p_value}. There is no significant difference in the variance of Quantity between imports and exports.\")"
   ]
  },
  {
   "cell_type": "markdown",
   "id": "ce89af90-492e-47b0-a717-3f333c1d40b9",
   "metadata": {},
   "source": [
    "**25. Is there a significant difference in the proportion of imports vs. exports?**"
   ]
  },
  {
   "cell_type": "code",
   "execution_count": 230,
   "id": "5c48013c-c36e-4da8-a424-9be7a27cc269",
   "metadata": {},
   "outputs": [
    {
     "name": "stdout",
     "output_type": "stream",
     "text": [
      "The p-value is 0.06214250909501448. There is no significant difference in the proportion of imports vs. exports.\n"
     ]
    }
   ],
   "source": [
    "from statsmodels.stats.proportion import proportions_ztest\n",
    "\n",
    "# Count imports and exports\n",
    "import_count = sum(dtsample['Import_Export'] == 'Import')\n",
    "export_count = sum(dtsample['Import_Export'] == 'Export')\n",
    "total_count = len(dtsample)\n",
    "\n",
    "# Perform z-test for proportions\n",
    "stat, p_value = proportions_ztest([import_count, export_count], [total_count, total_count])\n",
    "\n",
    "# Evaluate result\n",
    "if p_value < 0.05:\n",
    "    print(f\"The p-value is {p_value}. There is a significant difference in the proportion of imports vs. exports.\")\n",
    "else:\n",
    "    print(f\"The p-value is {p_value}. There is no significant difference in the proportion of imports vs. exports.\")"
   ]
  },
  {
   "cell_type": "markdown",
   "id": "a74ee6df-a922-4c5f-a76d-637b085f9e1e",
   "metadata": {},
   "source": [
    "**26. Is the correlation between Quantity and Value significant?**"
   ]
  },
  {
   "cell_type": "code",
   "execution_count": 231,
   "id": "e2ec1488-6b30-40da-b4e4-fb99324ed2af",
   "metadata": {},
   "outputs": [
    {
     "name": "stdout",
     "output_type": "stream",
     "text": [
      "The p-value is 0.06790759636643746. The correlation between Quantity and Value is not significant.\n"
     ]
    }
   ],
   "source": [
    "from scipy.stats import pearsonr\n",
    "\n",
    "# Calculate Pearson correlation between Quantity and Value\n",
    "correlation, p_value = pearsonr(dtsample['Quantity'], dtsample['Value'])\n",
    "\n",
    "# Evaluate result\n",
    "if p_value < 0.05:\n",
    "    print(f\"The p-value is {p_value}. The correlation between Quantity and Value is significant.\")\n",
    "else:\n",
    "    print(f\"The p-value is {p_value}. The correlation between Quantity and Value is not significant.\")"
   ]
  },
  {
   "cell_type": "markdown",
   "id": "5ec790f8-73d4-444b-a44e-68d37fa73db9",
   "metadata": {},
   "source": [
    "**27. Is the distribution of Value normal?**"
   ]
  },
  {
   "cell_type": "code",
   "execution_count": 232,
   "id": "b60b19dc-8680-4965-9db3-8ed85e2223bd",
   "metadata": {},
   "outputs": [
    {
     "name": "stdout",
     "output_type": "stream",
     "text": [
      "The p-value is 7.31824079278583e-25. The distribution of Value is not normal.\n"
     ]
    }
   ],
   "source": [
    "from scipy.stats import shapiro\n",
    "\n",
    "# Perform Shapiro-Wilk test for normality on Value\n",
    "stat, p_value = shapiro(dtsample['Value'])\n",
    "\n",
    "# Evaluate result\n",
    "if p_value < 0.05:\n",
    "    print(f\"The p-value is {p_value}. The distribution of Value is not normal.\")\n",
    "else:\n",
    "    print(f\"The p-value is {p_value}. The distribution of Value is normal.\")"
   ]
  },
  {
   "cell_type": "markdown",
   "id": "80e64b43-f7f1-4c57-b161-e3845614ce68",
   "metadata": {},
   "source": [
    "**28. How well can we predict Value based on Quantity and Weight?**"
   ]
  },
  {
   "cell_type": "code",
   "execution_count": 28,
   "id": "460471fa-ede7-4ce1-abd3-821b35ff45ad",
   "metadata": {},
   "outputs": [
    {
     "name": "stdout",
     "output_type": "stream",
     "text": [
      "Neither Quantity nor Weight are significant predictors of Value.\n"
     ]
    }
   ],
   "source": [
    "import statsmodels.api as sm\n",
    "\n",
    "# Define dependent (y) and independent variables (X)\n",
    "X = dtsample[['Quantity', 'Weight']]\n",
    "y = dtsample['Value']\n",
    "\n",
    "# Add constant to the model (intercept)\n",
    "X = sm.add_constant(X)\n",
    "\n",
    "# Fit the linear regression model\n",
    "model = sm.OLS(y, X).fit()\n",
    "\n",
    "# Evaluate result based on p-values\n",
    "if model.pvalues['Quantity'] < 0.05 and model.pvalues['Weight'] < 0.05:\n",
    "    print(\"Both Quantity and Weight are significant predictors of Value.\")\n",
    "elif model.pvalues['Quantity'] < 0.05:\n",
    "    print(\"Only Quantity is a significant predictor of Value.\")\n",
    "elif model.pvalues['Weight'] < 0.05:\n",
    "    print(\"Only Weight is a significant predictor of Value.\")\n",
    "else:\n",
    "    print(\"Neither Quantity nor Weight are significant predictors of Value.\")"
   ]
  },
  {
   "cell_type": "markdown",
   "id": "2e3d0f9d-20d1-4a32-afc5-58973272bfe7",
   "metadata": {},
   "source": [
    "**29. Can we predict whether a transaction is an Import or Export based on Quantity and Weight?**"
   ]
  },
  {
   "cell_type": "code",
   "execution_count": 234,
   "id": "f8018f40-13c1-400e-a2bb-36054f31841d",
   "metadata": {},
   "outputs": [
    {
     "name": "stdout",
     "output_type": "stream",
     "text": [
      "The logistic regression model has an accuracy of 49.63%, indicating it may not be a strong predictor.\n"
     ]
    }
   ],
   "source": [
    "from sklearn.linear_model import LogisticRegression\n",
    "from sklearn.model_selection import train_test_split\n",
    "from sklearn.metrics import accuracy_score\n",
    "\n",
    "# Convert 'Import_Export' to binary (0 = Import, 1 = Export)\n",
    "dtsample['Import_Export_binary'] = dtsample['Import_Export'].map({'Import': 0, 'Export': 1})\n",
    "\n",
    "# Define independent (X) and dependent variables (y)\n",
    "X = dtsample[['Quantity', 'Weight']]\n",
    "y = dtsample['Import_Export_binary']\n",
    "\n",
    "# Split data into training and test sets\n",
    "X_train, X_test, y_train, y_test = train_test_split(X, y, test_size=0.2, random_state=42)\n",
    "\n",
    "# Fit the logistic regression model\n",
    "logreg = LogisticRegression()\n",
    "logreg.fit(X_train, y_train)\n",
    "\n",
    "# Make predictions\n",
    "y_pred = logreg.predict(X_test)\n",
    "accuracy = accuracy_score(y_test, y_pred)\n",
    "\n",
    "# Evaluate result based on accuracy\n",
    "if accuracy > 0.7:\n",
    "    print(f\"The logistic regression model predicts Import/Export with {accuracy*100:.2f}% accuracy, indicating a good model.\")\n",
    "else:\n",
    "    print(f\"The logistic regression model has an accuracy of {accuracy*100:.2f}%, indicating it may not be a strong predictor.\")"
   ]
  },
  {
   "cell_type": "markdown",
   "id": "c6c515e7-2802-4b9f-b3d3-9153ca284ea0",
   "metadata": {},
   "source": [
    "**FINDINGS AND INFERENCES**\n",
    "\n",
    " **NON-CATEGORICAL DATA**\n",
    "\n"
   ]
  },
  {
   "cell_type": "markdown",
   "id": "a0b608e0-21b7-496e-ab5a-9fd193b2ae2c",
   "metadata": {},
   "source": [
    "**1.\tMinimum - What is the minimum quantity shipped in any transaction?**\n",
    "\r\n",
    "o\tObservation: The minimum quantity shipped could be a small number, e.g., 1 unit\n",
    "\r\n",
    "o\tManagerial Insight: The company should assess whether low-volume shipments are cost-effective, especially for exports. Small orders may not justify the shipping and operational costs, especially when using costly shipping methods like air freigh.\r\n"
   ]
  },
  {
   "cell_type": "markdown",
   "id": "3b029d13-35d1-472c-b1ae-2a5f0f39c751",
   "metadata": {},
   "source": [
    "**2. Maximum - What is the maximum weight of goods shipped across all transactions?**\n",
    "\n",
    "o\tObservation: The maximum weight is around 499.5 kg.\n",
    "\n",
    "o\tManagerial Insight: Understanding the upper limit of shipment weight is essential for logistics planning. Heavy shipments may require special transport arrangements (e.g., sea freight) or contracts with shipping companies to reduce costs.\n"
   ]
  },
  {
   "cell_type": "markdown",
   "id": "8888217b-98a0-47f8-8744-a9feab8f29d5",
   "metadata": {},
   "source": [
    "**3.\tMean - What is the average value of exports and imports?**\n",
    "\n",
    "o\tObservation: The average transaction value is approximately $5015.\n",
    "\n",
    "o\tManagerial Insight: The average transaction value helps management assess revenue expectations per transaction. It allows the company to identify whether high or low-value transactions are dominating their operations, informing pricing strategies.\n"
   ]
  },
  {
   "cell_type": "markdown",
   "id": "c558f722-6823-4e09-866b-387414782671",
   "metadata": {},
   "source": [
    "**4.\tMedian - What is the median quantity of products in the transactions?**\n",
    "\n",
    " o\tObservation: The median quantity is 4,871 units.\n",
    "\n",
    " o\tManagerial Insight: The median quantity helps in understanding the typical shipment size, helping managers better predict warehouse and transport needs. If the median is significantly lower than the mean, it could indicate a few very large orders skewing the data.\n"
   ]
  },
  {
   "cell_type": "markdown",
   "id": "5e13e052-08a6-42ba-8ff7-3c8a9ad1ada3",
   "metadata": {},
   "source": [
    "**5.\tMode - What is the most common transaction values in this dataset?**\n",
    "\n",
    "o\tObservation: Common transaction values in the data set are 241.83 , 4338.20 , 9295.66.\n",
    "\n",
    "o\tManagerial Insight: This indicates the typical transaction value in the dataset, which can help in defining standard pricing tiers or discounts for customers. Understanding the mode also assists in inventory and financial planning.\n"
   ]
  },
  {
   "cell_type": "markdown",
   "id": "c3a4960e-13fa-4ec9-9bb4-d1a3273819a8",
   "metadata": {},
   "source": [
    "**6.\tPercentile - What is the 75th percentile of transaction values?**\n",
    "\n",
    "o\tObservation: The 75th percentile value is $7459.23.\n",
    "\n",
    "o\tManagerial Insight: This helps to identify the high-value transactions that constitute the top 25% of the dataset. Focusing on this group could help target key accounts or customers that bring in more revenue.\n"
   ]
  },
  {
   "cell_type": "markdown",
   "id": "fcef6044-fefb-4180-9240-2e4a76a99b18",
   "metadata": {},
   "source": [
    "**7.\tRange - What is the range of product weights in the dataset?**\n",
    "\n",
    "o\tObservation: The weight ranges from 1.52 kg to 4995.7 kg.\n",
    "\n",
    "o\tManagerial Insight: A wide range suggests a diverse product portfolio, and different shipping methods might be more suitable for different products. It helps in assessing warehouse space and determining the most cost-effective shipping methods for each product category.\n"
   ]
  },
  {
   "cell_type": "markdown",
   "id": "6cc52546-acc2-4648-acc4-26045990d95a",
   "metadata": {},
   "source": [
    "**8.\tStandard Deviation - What is the standard deviation of the quantity of products across transactions?**\n",
    "\n",
    "o\tObservation: A high standard deviation indicates a large variation in product quantities across transactions.\n",
    "\n",
    "o\tManagerial Insight: A high variation in order sizes implies unpredictable demand patterns, making it difficult to plan inventory and logistics. More flexible supply chain strategies might be needed, such as scalable warehousing and dynamic pricing.\n"
   ]
  },
  {
   "cell_type": "markdown",
   "id": "84ef441d-b45d-4af3-99c9-b977d7b0ab93",
   "metadata": {},
   "source": [
    "**9. Skewness - Is the distribution of the total transaction value skewed?**\n",
    "\n",
    "o\tObservation: If the skewness is positive, most transactions are smaller, with a few large ones driving the overall value. If the skewness is negative, most transactions are larger, with a few smaller ones pulling the overall value down.\n",
    "\n",
    "o\tManagerial Insight: Skewed distributions suggest that most customers make small orders, with a few placing large orders. Understanding this can help management create different sales strategies, such as offering promotions for small customers and personalized services for large customers.\n"
   ]
  },
  {
   "cell_type": "markdown",
   "id": "0f643616-c475-4b55-9ade-6d049ba73849",
   "metadata": {},
   "source": [
    "**10.\tKurtosis - How peaked or flat is the distribution of the transaction values?**\n",
    "\n",
    "o\tObservation: A platykurtic distribution (low kurtosis) indicates that transaction values are more spread out, with fewer values close to the mean and a wider range of transactions.\n",
    "\n",
    "o\tManagerial Insight: A high kurtosis indicates a focus on a specific order size, which can help in standardizing operations. Lower kurtosis suggests more variability, requiring flexibility in managing different customer needs.\n"
   ]
  },
  {
   "cell_type": "markdown",
   "id": "47180165-f348-4218-ba44-78848b34c78c",
   "metadata": {},
   "source": [
    "**11.\tCorrelation - Is there a correlation between the quantity of goods and their transaction value?**\n",
    "\n",
    "o\tObservation: A negative correlation would indicate that as the quantity increases, the transaction value tends to decrease.\n",
    "\n",
    "o\tManagerial Insight: A negative correlation suggests that customers may be purchasing larger quantities at lower prices, potentially due to bulk discounts or lower-cost items. Management can consider revisiting pricing strategies, ensuring that larger orders still maintain profitability, or offering upsell opportunities on higher-margin products alongside bulk purchases.\n"
   ]
  },
  {
   "cell_type": "markdown",
   "id": "b84c7eb2-d5e0-45ce-93df-e66f10c574fb",
   "metadata": {},
   "source": [
    "**12 Coefficient of Variation - What is the coefficient of variation for transaction values?**\r\n",
    "\n",
    "o\tObservation: A high coefficient of variation means high variability in transaction values relative to the mean.\n",
    "\r\n",
    "o\tManagerial Insight: High variability suggests unpredictable revenue streams, which may require more robust financial planning. It may also indicate the need for more targeted marketing to smooth revenue streams.\r\n"
   ]
  },
  {
   "cell_type": "markdown",
   "id": "50dd1709-2738-4827-8022-72eb33915b39",
   "metadata": {},
   "source": [
    "**13.\tConfidence Interval - What is the 95% confidence interval for the mean quantity of products shipped?**\n",
    "\n",
    "o\tObservation: The 95% confidence interval provides a range around the mean, e.g., between 4803 and 5052 units.\n",
    "\n",
    "o\tManagerial Insight: This gives management an estimate of the reliability of the mean. If the range is too wide, it indicates higher uncertainty in shipment volumes, which may impact operational planning.\n"
   ]
  },
  {
   "cell_type": "markdown",
   "id": "20be6ab8-c1c7-422e-aebc-b9b63a9c5f1e",
   "metadata": {},
   "source": [
    "**CATEGORICAL DATA**"
   ]
  },
  {
   "cell_type": "markdown",
   "id": "c984f904-ae7d-4183-a718-155962345134",
   "metadata": {},
   "source": [
    "**14.\tCount - How many unique countries are involved in these transactions?**\n",
    "\n",
    "o\tObservation: There are 243 unique countries.\n",
    "\n",
    "o\tManagerial Insight: This helps the company understand its market reach. If the number of unique countries is low, the company may consider expanding into new regions to grow the business.\n"
   ]
  },
  {
   "cell_type": "markdown",
   "id": "3834063a-1353-48d2-b74c-02418c850572",
   "metadata": {},
   "source": [
    "**15.\tFrequency - Which product is traded most frequently?**\n",
    "\n",
    "o\tObservation: Bank is the most frequently traded product.\n",
    "\n",
    "o\tManagerial Insight: Knowing the most popular product category helps in optimizing inventory and production planning. The company may want to focus marketing efforts on popular products to further increase sales.\n"
   ]
  },
  {
   "cell_type": "markdown",
   "id": "b9a3097c-39b2-4c8d-9cb1-e2f724e96346",
   "metadata": {},
   "source": [
    "**16.\tProportion - What proportion of the transactions are exports vs. imports?**\n",
    "\n",
    "o\tObservation: 48.5% are exports and 51.5% are imports.\n",
    "\n",
    "o\tManagerial Insight -This scenario suggests a trade imbalance, where management could explore boosting export opportunities through enhanced marketing, competitive pricing, or product adaptation to international markets. Simultaneously, the company might need to assess the sustainability of high import reliance, exploring local sourcing alternatives or optimizing import costs to improve profitability. \n"
   ]
  },
  {
   "cell_type": "markdown",
   "id": "ee610e2a-4610-4343-8fca-56744033fd34",
   "metadata": {},
   "source": [
    "**17. Minimum - Which shipping method was used the least across all transactions?**\n",
    "\n",
    "o\tObservation: Land the least used.\n",
    "\n",
    "\n",
    "o\tManagerial Insight: If certain shipping methods are underutilized, the company might explore cost-benefit analyses for these methods or discontinue them if they aren't efficient.\n",
    ".\n"
   ]
  },
  {
   "cell_type": "markdown",
   "id": "163d2a08-5a4a-4dd7-b8f9-15c66932bc02",
   "metadata": {},
   "source": [
    "**18.\tMaximum - Which country has the highest number of transactions?**\n",
    "\n",
    "o\tObservation: Congo has the most transactions.\n",
    "\n",
    "\n",
    "o\tManagerial Insight: Knowing which country has the highest transaction volume helps target marketing and sales efforts. Expanding relationships in high-transaction countries can increase market share.\n"
   ]
  },
  {
   "cell_type": "markdown",
   "id": "7173682d-4c66-4654-a876-101612d438cb",
   "metadata": {},
   "source": [
    "**19.Mode-What is the most common shipping method used for transactions?**\n",
    "\n",
    "o\tObservation: Air is the most common shipping method, that saves time.\n",
    "\n",
    "\n",
    "o\tManagerial Insight: Understanding the most common shipping method helps company negotiate better rates and improve logistically efficienc for that mode of transport."
   ]
  },
  {
   "cell_type": "markdown",
   "id": "63135d48-67f1-48f7-8b8a-7faf134bb435",
   "metadata": {},
   "source": [
    "**20.\tRank - Rank the countries based on the total value of goods traded?**\n",
    "\n",
    "o\tObservation: For instance, Congo , is rank highest, followed by New Zealand.\n",
    "\n",
    "o\tManagerial Insight: This ranking can guide the allocation of resources. High-value countries may warrant more marketing focus or better customer relationship management.\n",
    "\n"
   ]
  },
  {
   "cell_type": "markdown",
   "id": "9862d957-407e-43e5-adc6-b90aa8ec9f25",
   "metadata": {},
   "source": [
    "**21. Is there a relationship between country and category of products shipped?**\n",
    "\n",
    "o Observation: The p-value of 0.191 indicates no significant relationship between country and product category. Product distribution across countries appears uniform, without meaningful differences.\r\n",
    "\r\n",
    "o Managerial InsightA standardized product strategy across countries is feasible, reducing the need for country specific product adjustments and enabling more efficient global operations.t."
   ]
  },
  {
   "cell_type": "markdown",
   "id": "2ec54ff7-2266-40c5-b137-9481b810d4ea",
   "metadata": {},
   "source": [
    "**STATISTICAL TESTS**\n",
    "\n",
    "\n",
    "**22.\tTest of Mean (t-test) - Is the average quantity of products shipped significantly not different from 5000 units?**\n",
    "\n",
    "o\tObservation: The t-test shows that the mean is significantly not different from 5000 units.\n",
    "\n",
    "o\tManagerial Insight: If the mean differs significantly, it could suggest that the company should adjust production and inventory levels based on actual demand rather than assumptions.\n"
   ]
  },
  {
   "cell_type": "markdown",
   "id": "4c02dad6-1b4f-4e09-a975-69ff1f6def69",
   "metadata": {},
   "source": [
    "**23.\tANOVA - Is there a significant difference in transaction value across different shipping methods?**\n",
    "\n",
    "o\tObservation: ANOVA may show that transaction values are significantly different across shipping methods.No significant difference is seen in this case.\n",
    "\n",
    "o\tManagerial Insight: If shipping methods influence transaction values, optimizing or selecting the right shipping method could increase profitability.\n"
   ]
  },
  {
   "cell_type": "markdown",
   "id": "c4e772b6-1717-4785-942b-b2b6189194a9",
   "metadata": {},
   "source": [
    "**24.\tLevene’s Test - Is the variance in Quantity significantly different between imports and exports?**\r\n",
    "\n",
    "o\tObservation: If the test shows a significant difference, it indicates higher variability in one group (e.g., exports). In this case, there is no significant difference observed.\n",
    "\n",
    "\r\n",
    "o\tManagerial Insight: The company may need different strategies for managing imports and exports, like separate inventory management systems.\r\n"
   ]
  },
  {
   "cell_type": "markdown",
   "id": "6adf2115-b327-40d0-822f-162645d2a090",
   "metadata": {},
   "source": [
    "**25.\tTest of Proportion (z-test) - Is there a significant difference in the proportion of imports vs. exports?**\n",
    "\n",
    "o\tObservation: If there is a significant difference, e.g., more exports than imports.In our case no significance difference.\n",
    "\n",
    "o\tManagerial Insight: A significantly higher export proportion might indicate untapped potential for imports, or a focus on growing international markets.\n"
   ]
  },
  {
   "cell_type": "markdown",
   "id": "832811fd-3cb2-4ed5-b609-e4d5706a4a22",
   "metadata": {},
   "source": [
    "**26.\tTest of Correlation (t-test) - Is the correlation between Quantity and Value significant?**\n",
    "\n",
    "o\tObservation: A significant positive correlation suggests that transaction value increases as quantity increases.No significant correlation between quantity and value.\n",
    "\n",
    "o\tManagerial Insight: The company could incentivize bulk purchases, offering discounts for larger quantities, as it aligns with higher transaction values.\n"
   ]
  },
  {
   "cell_type": "markdown",
   "id": "0233e740-e6fb-4371-b4a8-3a4f55820e47",
   "metadata": {},
   "source": [
    "**27.\tShapiro-Wilk Test - Is the distribution of Value normal?**\n",
    "\n",
    "o\tObservation: If the data is non-normal, the company might need to use non-parametric methods for analysis.\n",
    "\n",
    "o\tManagerial Insight: This insight ensures accurate decision-making based on appropriate statistical methods, guiding strategy formulation based on reliable data.\n"
   ]
  },
  {
   "cell_type": "markdown",
   "id": "158e8d3a-f94a-4492-82e3-e1dad96fd11b",
   "metadata": {},
   "source": [
    "**REGRESSION AND LOGISTIC REGRESSION**"
   ]
  },
  {
   "cell_type": "markdown",
   "id": "4900610f-0abb-4e03-80ff-6763e96694df",
   "metadata": {},
   "source": [
    "**28.\tRegression - How well can we predict Value based on Quantity and Weight?**\n",
    "\n",
    "o\tObservation: A significant regression model could explain 70% of the variance in Value. As the p values of both Quantity and Weight are greater than 0.05, neither Quantity nor Weight are significant predictors of Value.\n",
    "\n",
    "o\tManagerial Insight: Predicting transaction values based on key variables helps in pricing decisions and optimizing sales strategies for high-value transactions.\n"
   ]
  },
  {
   "cell_type": "markdown",
   "id": "9baad89c-66de-4240-afa2-38369c919048",
   "metadata": {},
   "source": [
    "**29.\tLogistic Regression - Can we predict whether a transaction is an Import or Export based on Quantity and Weight?**\n",
    "\n",
    "o\tObservation: The logistic regression model has an accuracy of 49.63%, indicating it may not be a strong predictor.\n",
    "\n",
    "o\tManagerial Insight: Understanding the factors driving import or export transactions allows the company to forecast future business and tailor logistical strategies accordingly.\n"
   ]
  },
  {
   "cell_type": "code",
   "execution_count": null,
   "id": "aedd8cac-22a3-4551-8074-33772dacc94a",
   "metadata": {},
   "outputs": [],
   "source": []
  }
 ],
 "metadata": {
  "kernelspec": {
   "display_name": "Python 3 (ipykernel)",
   "language": "python",
   "name": "python3"
  },
  "language_info": {
   "codemirror_mode": {
    "name": "ipython",
    "version": 3
   },
   "file_extension": ".py",
   "mimetype": "text/x-python",
   "name": "python",
   "nbconvert_exporter": "python",
   "pygments_lexer": "ipython3",
   "version": "3.12.4"
  }
 },
 "nbformat": 4,
 "nbformat_minor": 5
}
