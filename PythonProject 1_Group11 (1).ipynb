{
 "cells": [
  {
   "cell_type": "markdown",
   "id": "3cf5fa9b-6b23-480c-8f41-aba9428761de",
   "metadata": {},
   "source": [
    "### **Unlocking Trade Value: An Analytical Approach to Imports, Exports, and Supply Chain Efficiency**\n",
    " Student Names: Krishnendu Adhikary and Shefali Pujara\n",
    "\n",
    "Enrollment Numbers: 055022, 055044\n",
    "\n",
    "Group Number: 11\n"
   ]
  },
  {
   "cell_type": "markdown",
   "id": "fbb9b312-dd63-4ff4-9850-1a95ca4d5d3e",
   "metadata": {},
   "source": [
    "### **Description of DATA**\n",
    "\n",
    "This dataset provides detailed information on international trade transactions, capturing both import and export activities. It includes comprehensive data on various aspects of trade, making it a valuable resource for business analysis, economic research, and financial modeling.\n",
    "\n",
    "**Data Source:** https://www.kaggle.com/datasets/chakilamvishwas/imports-exports-15000\n",
    "\n",
    "**Data Size:** 2001 rows × 16 columns\n",
    "\n",
    "**Data Type:** Cross-sectional\n",
    "\n",
    "**Data Dimension:** 16 Variables and 2001 Observations\n",
    "\n",
    "**Data Variable Types:** Text(11), Integer(3), Decimal(2)\n",
    "\n",
    "**Data Variable Category:** \n",
    "\n",
    "Index: Transaction_ID, Invoice_Number, Customs_Code\n",
    "\n",
    "Nominal Categorical: Country, Product, Import_Export, Category, Port, Shipping_Method, Supplier, Customer\n",
    "\n",
    "Ordinal Categorical: Payment_Terms\n",
    "\n",
    "Non-Categorical: Quantity, Value, Weight, Date\n",
    "\n"
   ]
  },
  {
   "cell_type": "markdown",
   "id": "20f95431-aca1-4a18-958f-64642b0bbae4",
   "metadata": {},
   "source": [
    "### **OBJECTIVES**\n"
   ]
  },
  {
   "cell_type": "markdown",
   "id": "9254f4ed-cecf-45e7-8746-0b539b78e96f",
   "metadata": {},
   "source": [
    "This project aims to:\n",
    "\n",
    "**1. Analyze international trade transactions:**\n",
    "Focus on countries, products, and shipping methods to understand value distribution.\n",
    "\n",
    "**2. Identify key drivers of transaction value:**\n",
    "Correlate product weight, transaction value, and customs codes to reveal patterns in market demand and supplier performance.\n",
    "\n",
    "**3. Evaluate the cost-effectiveness of logistics:**\n",
    "Compare shipping methods and ports to optimize logistics and reduce operational costs.\n",
    "\n",
    "**4. Strengthen supplier relationships:**\n",
    "Assess supplier performance based on transaction value and payment terms to improve cash flow and negotiate favorable terms.\n",
    "\n",
    "**5. Enhance supply chain efficiency:**\n",
    "Provide data-driven insights to maximize profitability through strategic decision-making on logistics, supplier engagement, and financial management.\n",
    "\n",
    "This structured approach ensures a balanced focus on operational excellence, cost reduction, and financial optimization."
   ]
  },
  {
   "cell_type": "markdown",
   "id": "46b2d98b-b072-4d71-8b9c-4882e79ee8f2",
   "metadata": {},
   "source": [
    "### **PROBLEM STATEMENTS & ANALYSIS**\n",
    "\n",
    "There are 43 Problem Statements and the basic descriptive and mathematical or statistical analysis provided to answer the queries. \n",
    "\n",
    "(Although there are two separate sections for Observations and Managerial insights in the later part, we have provided answers stating these two components for each of the Problem Statements as well.)"
   ]
  },
  {
   "cell_type": "code",
   "execution_count": 394,
   "id": "cd199b3b-a6c3-4342-8354-29f605902e60",
   "metadata": {},
   "outputs": [],
   "source": [
    "#Importing all required libraries\n",
    "import os\n",
    "import pandas as pd\n",
    "import numpy as np\n",
    "\n",
    "#Loading the dataset\n",
    "dataset=pd.read_csv(\"D:\\\\MBA materials\\\\Trimester 1\\\\DEVP(AMitra)\\\\Imports_Exports_Dataset.csv\")"
   ]
  },
  {
   "cell_type": "code",
   "execution_count": 395,
   "id": "01cdb740-04fe-480e-a0cf-97461f81a763",
   "metadata": {},
   "outputs": [
    {
     "data": {
      "text/html": [
       "<div>\n",
       "<style scoped>\n",
       "    .dataframe tbody tr th:only-of-type {\n",
       "        vertical-align: middle;\n",
       "    }\n",
       "\n",
       "    .dataframe tbody tr th {\n",
       "        vertical-align: top;\n",
       "    }\n",
       "\n",
       "    .dataframe thead th {\n",
       "        text-align: right;\n",
       "    }\n",
       "</style>\n",
       "<table border=\"1\" class=\"dataframe\">\n",
       "  <thead>\n",
       "    <tr style=\"text-align: right;\">\n",
       "      <th></th>\n",
       "      <th>Transaction_ID</th>\n",
       "      <th>Country</th>\n",
       "      <th>Product</th>\n",
       "      <th>Import_Export</th>\n",
       "      <th>Quantity</th>\n",
       "      <th>Value</th>\n",
       "      <th>Date</th>\n",
       "      <th>Category</th>\n",
       "      <th>Port</th>\n",
       "      <th>Customs_Code</th>\n",
       "      <th>Weight</th>\n",
       "      <th>Shipping_Method</th>\n",
       "      <th>Supplier</th>\n",
       "      <th>Customer</th>\n",
       "      <th>Invoice_Number</th>\n",
       "      <th>Payment_Terms</th>\n",
       "    </tr>\n",
       "  </thead>\n",
       "  <tbody>\n",
       "    <tr>\n",
       "      <th>7345</th>\n",
       "      <td>b28b7985-9865-4611-a189-1f6154999009</td>\n",
       "      <td>Germany</td>\n",
       "      <td>woman</td>\n",
       "      <td>Export</td>\n",
       "      <td>4402</td>\n",
       "      <td>2506.89</td>\n",
       "      <td>19-04-2020</td>\n",
       "      <td>Electronics</td>\n",
       "      <td>Lake Ericachester</td>\n",
       "      <td>590842</td>\n",
       "      <td>1862.12</td>\n",
       "      <td>Sea</td>\n",
       "      <td>Schneider, Hicks and Potter</td>\n",
       "      <td>Taylor Christian</td>\n",
       "      <td>70000162</td>\n",
       "      <td>Net 60</td>\n",
       "    </tr>\n",
       "    <tr>\n",
       "      <th>205</th>\n",
       "      <td>6238d0a0-cf5e-4ea3-a258-4ab368777bab</td>\n",
       "      <td>Costa Rica</td>\n",
       "      <td>day</td>\n",
       "      <td>Import</td>\n",
       "      <td>4638</td>\n",
       "      <td>2119.37</td>\n",
       "      <td>25-09-2023</td>\n",
       "      <td>Machinery</td>\n",
       "      <td>Amandatown</td>\n",
       "      <td>856709</td>\n",
       "      <td>1457.77</td>\n",
       "      <td>Land</td>\n",
       "      <td>Herrera, Chang and Farrell</td>\n",
       "      <td>Brittany Lee</td>\n",
       "      <td>88203466</td>\n",
       "      <td>Prepaid</td>\n",
       "    </tr>\n",
       "    <tr>\n",
       "      <th>5146</th>\n",
       "      <td>0d0c61fd-4700-4eb8-b408-850e0fdc26f4</td>\n",
       "      <td>Chile</td>\n",
       "      <td>group</td>\n",
       "      <td>Import</td>\n",
       "      <td>1696</td>\n",
       "      <td>795.01</td>\n",
       "      <td>18-12-2021</td>\n",
       "      <td>Machinery</td>\n",
       "      <td>South Kennethburgh</td>\n",
       "      <td>531811</td>\n",
       "      <td>3899.05</td>\n",
       "      <td>Sea</td>\n",
       "      <td>Pratt Ltd</td>\n",
       "      <td>Thomas Hartman DVM</td>\n",
       "      <td>24718885</td>\n",
       "      <td>Net 30</td>\n",
       "    </tr>\n",
       "    <tr>\n",
       "      <th>5540</th>\n",
       "      <td>0c4a3950-345d-4816-80ed-b229b6b54cde</td>\n",
       "      <td>Ghana</td>\n",
       "      <td>want</td>\n",
       "      <td>Import</td>\n",
       "      <td>846</td>\n",
       "      <td>3943.25</td>\n",
       "      <td>20-12-2021</td>\n",
       "      <td>Toys</td>\n",
       "      <td>Tylershire</td>\n",
       "      <td>903558</td>\n",
       "      <td>686.79</td>\n",
       "      <td>Sea</td>\n",
       "      <td>Hughes-Sweeney</td>\n",
       "      <td>Michelle Kirby</td>\n",
       "      <td>93019204</td>\n",
       "      <td>Net 30</td>\n",
       "    </tr>\n",
       "    <tr>\n",
       "      <th>4499</th>\n",
       "      <td>f89d4123-1718-490a-80f6-2b31c5b0bb0d</td>\n",
       "      <td>Bhutan</td>\n",
       "      <td>finish</td>\n",
       "      <td>Import</td>\n",
       "      <td>6191</td>\n",
       "      <td>4624.25</td>\n",
       "      <td>09-06-2020</td>\n",
       "      <td>Furniture</td>\n",
       "      <td>Stephanietown</td>\n",
       "      <td>202687</td>\n",
       "      <td>906.43</td>\n",
       "      <td>Sea</td>\n",
       "      <td>Salazar Group</td>\n",
       "      <td>Anthony Wiley</td>\n",
       "      <td>31583917</td>\n",
       "      <td>Prepaid</td>\n",
       "    </tr>\n",
       "    <tr>\n",
       "      <th>4775</th>\n",
       "      <td>3c6a7d4a-384f-4130-a288-137e2889d205</td>\n",
       "      <td>Botswana</td>\n",
       "      <td>eat</td>\n",
       "      <td>Export</td>\n",
       "      <td>1215</td>\n",
       "      <td>2537.15</td>\n",
       "      <td>17-04-2021</td>\n",
       "      <td>Machinery</td>\n",
       "      <td>Jonshire</td>\n",
       "      <td>730560</td>\n",
       "      <td>3733.84</td>\n",
       "      <td>Land</td>\n",
       "      <td>Moore, Blake and Li</td>\n",
       "      <td>Pamela Diaz</td>\n",
       "      <td>96813919</td>\n",
       "      <td>Cash on Delivery</td>\n",
       "    </tr>\n",
       "    <tr>\n",
       "      <th>13628</th>\n",
       "      <td>0bdf0b4d-5a1e-4543-8e41-4af89e36eb88</td>\n",
       "      <td>Korea</td>\n",
       "      <td>series</td>\n",
       "      <td>Export</td>\n",
       "      <td>8544</td>\n",
       "      <td>4153.00</td>\n",
       "      <td>24-06-2024</td>\n",
       "      <td>Electronics</td>\n",
       "      <td>North Zachary</td>\n",
       "      <td>140552</td>\n",
       "      <td>1755.24</td>\n",
       "      <td>Land</td>\n",
       "      <td>Patel Group</td>\n",
       "      <td>Sara Erickson</td>\n",
       "      <td>51300134</td>\n",
       "      <td>Cash on Delivery</td>\n",
       "    </tr>\n",
       "    <tr>\n",
       "      <th>4111</th>\n",
       "      <td>7d5a1b03-d8ac-4d06-8428-3ad0df038544</td>\n",
       "      <td>Singapore</td>\n",
       "      <td>whom</td>\n",
       "      <td>Import</td>\n",
       "      <td>9844</td>\n",
       "      <td>7277.94</td>\n",
       "      <td>12-04-2024</td>\n",
       "      <td>Electronics</td>\n",
       "      <td>Craighaven</td>\n",
       "      <td>853364</td>\n",
       "      <td>447.79</td>\n",
       "      <td>Air</td>\n",
       "      <td>Morris-Boyd</td>\n",
       "      <td>Rachael Warner</td>\n",
       "      <td>23648012</td>\n",
       "      <td>Net 60</td>\n",
       "    </tr>\n",
       "    <tr>\n",
       "      <th>1858</th>\n",
       "      <td>5eabd8f7-1782-44e8-8cb7-71b1e922ba0a</td>\n",
       "      <td>Oman</td>\n",
       "      <td>data</td>\n",
       "      <td>Export</td>\n",
       "      <td>514</td>\n",
       "      <td>5667.46</td>\n",
       "      <td>28-05-2024</td>\n",
       "      <td>Furniture</td>\n",
       "      <td>Hillville</td>\n",
       "      <td>117188</td>\n",
       "      <td>1359.34</td>\n",
       "      <td>Sea</td>\n",
       "      <td>Barrett, Hughes and Hudson</td>\n",
       "      <td>Austin Lewis</td>\n",
       "      <td>75486163</td>\n",
       "      <td>Net 60</td>\n",
       "    </tr>\n",
       "    <tr>\n",
       "      <th>9521</th>\n",
       "      <td>12f671b0-2f22-40b6-89fc-7de9d7e7d52f</td>\n",
       "      <td>Faroe Islands</td>\n",
       "      <td>consumer</td>\n",
       "      <td>Export</td>\n",
       "      <td>2560</td>\n",
       "      <td>9474.11</td>\n",
       "      <td>08-10-2022</td>\n",
       "      <td>Clothing</td>\n",
       "      <td>Port Peterfurt</td>\n",
       "      <td>473488</td>\n",
       "      <td>1236.42</td>\n",
       "      <td>Sea</td>\n",
       "      <td>Arnold Inc</td>\n",
       "      <td>Mr. Thomas Mcbride DVM</td>\n",
       "      <td>60059429</td>\n",
       "      <td>Prepaid</td>\n",
       "    </tr>\n",
       "  </tbody>\n",
       "</table>\n",
       "</div>"
      ],
      "text/plain": [
       "                             Transaction_ID        Country   Product  \\\n",
       "7345   b28b7985-9865-4611-a189-1f6154999009        Germany     woman   \n",
       "205    6238d0a0-cf5e-4ea3-a258-4ab368777bab     Costa Rica       day   \n",
       "5146   0d0c61fd-4700-4eb8-b408-850e0fdc26f4          Chile     group   \n",
       "5540   0c4a3950-345d-4816-80ed-b229b6b54cde          Ghana      want   \n",
       "4499   f89d4123-1718-490a-80f6-2b31c5b0bb0d         Bhutan    finish   \n",
       "4775   3c6a7d4a-384f-4130-a288-137e2889d205       Botswana       eat   \n",
       "13628  0bdf0b4d-5a1e-4543-8e41-4af89e36eb88          Korea    series   \n",
       "4111   7d5a1b03-d8ac-4d06-8428-3ad0df038544      Singapore      whom   \n",
       "1858   5eabd8f7-1782-44e8-8cb7-71b1e922ba0a           Oman      data   \n",
       "9521   12f671b0-2f22-40b6-89fc-7de9d7e7d52f  Faroe Islands  consumer   \n",
       "\n",
       "      Import_Export  Quantity    Value        Date     Category  \\\n",
       "7345         Export      4402  2506.89  19-04-2020  Electronics   \n",
       "205          Import      4638  2119.37  25-09-2023    Machinery   \n",
       "5146         Import      1696   795.01  18-12-2021    Machinery   \n",
       "5540         Import       846  3943.25  20-12-2021         Toys   \n",
       "4499         Import      6191  4624.25  09-06-2020    Furniture   \n",
       "4775         Export      1215  2537.15  17-04-2021    Machinery   \n",
       "13628        Export      8544  4153.00  24-06-2024  Electronics   \n",
       "4111         Import      9844  7277.94  12-04-2024  Electronics   \n",
       "1858         Export       514  5667.46  28-05-2024    Furniture   \n",
       "9521         Export      2560  9474.11  08-10-2022     Clothing   \n",
       "\n",
       "                     Port  Customs_Code   Weight Shipping_Method  \\\n",
       "7345    Lake Ericachester        590842  1862.12             Sea   \n",
       "205            Amandatown        856709  1457.77            Land   \n",
       "5146   South Kennethburgh        531811  3899.05             Sea   \n",
       "5540           Tylershire        903558   686.79             Sea   \n",
       "4499        Stephanietown        202687   906.43             Sea   \n",
       "4775             Jonshire        730560  3733.84            Land   \n",
       "13628       North Zachary        140552  1755.24            Land   \n",
       "4111           Craighaven        853364   447.79             Air   \n",
       "1858            Hillville        117188  1359.34             Sea   \n",
       "9521       Port Peterfurt        473488  1236.42             Sea   \n",
       "\n",
       "                          Supplier                Customer  Invoice_Number  \\\n",
       "7345   Schneider, Hicks and Potter        Taylor Christian        70000162   \n",
       "205     Herrera, Chang and Farrell            Brittany Lee        88203466   \n",
       "5146                     Pratt Ltd      Thomas Hartman DVM        24718885   \n",
       "5540                Hughes-Sweeney          Michelle Kirby        93019204   \n",
       "4499                 Salazar Group           Anthony Wiley        31583917   \n",
       "4775           Moore, Blake and Li             Pamela Diaz        96813919   \n",
       "13628                  Patel Group           Sara Erickson        51300134   \n",
       "4111                   Morris-Boyd          Rachael Warner        23648012   \n",
       "1858    Barrett, Hughes and Hudson            Austin Lewis        75486163   \n",
       "9521                    Arnold Inc  Mr. Thomas Mcbride DVM        60059429   \n",
       "\n",
       "          Payment_Terms  \n",
       "7345             Net 60  \n",
       "205             Prepaid  \n",
       "5146             Net 30  \n",
       "5540             Net 30  \n",
       "4499            Prepaid  \n",
       "4775   Cash on Delivery  \n",
       "13628  Cash on Delivery  \n",
       "4111             Net 60  \n",
       "1858             Net 60  \n",
       "9521            Prepaid  "
      ]
     },
     "execution_count": 395,
     "metadata": {},
     "output_type": "execute_result"
    }
   ],
   "source": [
    "#Taking the sample dataset\n",
    "dtsample=dataset.sample(n=2001 , random_state=2244)\n",
    "dtsample.head(10)"
   ]
  },
  {
   "cell_type": "markdown",
   "id": "a466b4f8-cb46-4c02-b8a3-bdcd625d0283",
   "metadata": {},
   "source": [
    "**1. What is the minimum quantity shipped in any transaction?**"
   ]
  },
  {
   "cell_type": "code",
   "execution_count": 397,
   "id": "c30952c7-53a6-4e53-9216-358d2adf2fb4",
   "metadata": {},
   "outputs": [
    {
     "name": "stdout",
     "output_type": "stream",
     "text": [
      "The minimum quantity shipped in any transaction: 1\n"
     ]
    }
   ],
   "source": [
    "Min= dtsample['Quantity'].min()\n",
    "print('The minimum quantity shipped in any transaction:', Min)"
   ]
  },
  {
   "cell_type": "markdown",
   "id": "de57d93b-64fe-41ee-9961-10ce7804269c",
   "metadata": {},
   "source": [
    "**o\tObservation:** The minimum quantity shipped could be a small number, e.g., 1 unit\n",
    "\n",
    "**o\tManagerial Insight:** The company should assess whether low-volume shipments are cost-effective, especially for exports. Small orders may not justify the shipping and operational costs, especially when using costly shipping methods like air freight.\n"
   ]
  },
  {
   "cell_type": "markdown",
   "id": "d5a45fc0-f908-4cf0-87ee-e2e46b75f15d",
   "metadata": {},
   "source": [
    "**2. What is the maximum weight of goods shipped across all transactions?**"
   ]
  },
  {
   "cell_type": "code",
   "execution_count": 400,
   "id": "4919a1f7-fe41-4b8c-a3cd-12e4dadf3b83",
   "metadata": {},
   "outputs": [
    {
     "name": "stdout",
     "output_type": "stream",
     "text": [
      "The maximum weight of goods shipped across all transactions: 4995.7\n"
     ]
    }
   ],
   "source": [
    "Max= dtsample['Weight'].max()\n",
    "print('The maximum weight of goods shipped across all transactions:', Max)"
   ]
  },
  {
   "cell_type": "markdown",
   "id": "b585b9ff-9309-4a38-9f9c-1f3996beaadf",
   "metadata": {},
   "source": [
    "**o\tObservation:** The maximum weight is around 4995.7 kg.\n",
    "\n",
    "**o Managerial Insight:** Understanding the upper limit of shipment weight is essential for logistics planning. Heavy shipments may require special transport arrangements (e.g., sea freight) or contracts with shipping companies to reduce costs.\n"
   ]
  },
  {
   "cell_type": "markdown",
   "id": "9301e96f-7bee-49e6-b32c-11c78dd9f86c",
   "metadata": {},
   "source": [
    "**3. What is the average value of exports and imports?**"
   ]
  },
  {
   "cell_type": "code",
   "execution_count": 403,
   "id": "9c9d32b1-c50a-480a-abfa-d025ef0291cd",
   "metadata": {},
   "outputs": [
    {
     "name": "stdout",
     "output_type": "stream",
     "text": [
      "The average value of exports and imports: 5015.6328035982015\n"
     ]
    }
   ],
   "source": [
    "avg= dtsample['Value'].mean()\n",
    "print('The average value of exports and imports:', avg)"
   ]
  },
  {
   "cell_type": "markdown",
   "id": "2c19b220-4e14-4324-bb6e-539c16243550",
   "metadata": {},
   "source": [
    "**o Observation:** The average transaction value is approximately $5015.\n",
    "\n",
    "**o Managerial Insight:** The average transaction value helps management assess revenue expectations per transaction. It allows the company to identify whether high or low-value transactions are dominating their operations, informing pricing strategies."
   ]
  },
  {
   "cell_type": "markdown",
   "id": "90406742-c00b-4422-9bc2-8cb9ba733ea6",
   "metadata": {},
   "source": [
    "**4. What is the median quantity of products in the transactions?**"
   ]
  },
  {
   "cell_type": "code",
   "execution_count": 406,
   "id": "65d7a22d-0046-4c60-800f-1bc050824c39",
   "metadata": {},
   "outputs": [
    {
     "name": "stdout",
     "output_type": "stream",
     "text": [
      "The median quantity of products in the transactions: 4871.0\n"
     ]
    }
   ],
   "source": [
    "med= dtsample['Quantity'].median()\n",
    "print('The median quantity of products in the transactions:', med)"
   ]
  },
  {
   "cell_type": "markdown",
   "id": "b67f7d6d-569a-485c-8db7-1cfaa3bc2920",
   "metadata": {},
   "source": [
    "**o Observation:** The median quantity is 4,871 units.\n",
    "\n",
    "**o Managerial Insight:** The median quantity helps in understanding the typical shipment size, helping managers better predict warehouse and transport needs. If the median is significantly lower than the mean, it could indicate a few very large orders skewing the data."
   ]
  },
  {
   "cell_type": "markdown",
   "id": "4bcc9f69-b8ac-4959-8703-f1371353bd21",
   "metadata": {},
   "source": [
    "**5. What is the most common transaction values in this dataset?**"
   ]
  },
  {
   "cell_type": "code",
   "execution_count": 409,
   "id": "5955d4e7-1781-436c-9bcd-718f879c88dd",
   "metadata": {},
   "outputs": [
    {
     "name": "stdout",
     "output_type": "stream",
     "text": [
      "The most common transaction values in this dataset:\n",
      "0     241.83\n",
      "1    4338.20\n",
      "2    9295.66\n",
      "Name: Value, dtype: float64\n"
     ]
    }
   ],
   "source": [
    "mode= dtsample['Value'].mode()\n",
    "print('The most common transaction values in this dataset:')\n",
    "print(mode)"
   ]
  },
  {
   "cell_type": "markdown",
   "id": "9c694bd0-acc4-4ee4-a606-12125507279e",
   "metadata": {},
   "source": [
    "**o\tObservation:** Common transaction values in the data set are 241.83 , 4338.20 , 9295.66.\n",
    "\n",
    "**o\tManagerial Insight:** This indicates the typical transaction value in the dataset, which can help in defining standard pricing tiers or discounts for customers. Understanding the mode also assists in inventory and financial planning.\n"
   ]
  },
  {
   "cell_type": "markdown",
   "id": "52828cbd-6282-4fab-955e-d4c6ffcede84",
   "metadata": {},
   "source": [
    "**6. What is the 75th percentile of transaction values in this dataset?**"
   ]
  },
  {
   "cell_type": "code",
   "execution_count": 412,
   "id": "82893aa4-b4dc-4a14-9de3-6614b6efb7c5",
   "metadata": {},
   "outputs": [
    {
     "name": "stdout",
     "output_type": "stream",
     "text": [
      "The 75th percentile of transaction values in this dataset: 7459.23\n"
     ]
    }
   ],
   "source": [
    "q3= dtsample['Value'].quantile(0.75)\n",
    "print('The 75th percentile of transaction values in this dataset:', q3)"
   ]
  },
  {
   "cell_type": "markdown",
   "id": "6249550a-f478-4582-b6a8-fd6b19ef6c23",
   "metadata": {},
   "source": [
    "**o Observation:** The 75th percentile value is $7459.23.\n",
    "\n",
    "**o Managerial Insight:** This helps to identify the high-value transactions that constitute the top 25% of the dataset. Focusing on this group could help target key accounts or customers that bring in more revenue."
   ]
  },
  {
   "cell_type": "markdown",
   "id": "a91f9ae5-98d1-4c92-ba95-0c5ce146f9b1",
   "metadata": {},
   "source": [
    "**7. What is the range of product weights in the dataset?**"
   ]
  },
  {
   "cell_type": "code",
   "execution_count": 415,
   "id": "e04af05f-1e9c-44e7-9cea-314592c2ac9c",
   "metadata": {},
   "outputs": [
    {
     "name": "stdout",
     "output_type": "stream",
     "text": [
      "The range of product weights in the dataset: 4994.179999999999\n"
     ]
    }
   ],
   "source": [
    "range= (dtsample['Weight'].max() - dtsample['Weight'].min())\n",
    "print('The range of product weights in the dataset:', range)"
   ]
  },
  {
   "cell_type": "markdown",
   "id": "fc9defce-c224-44b6-8d37-2c108cc25d9e",
   "metadata": {},
   "source": [
    "**o Observation:** The weight ranges from 1.52 kg to 4995.7 kg.\n",
    "\n",
    "**o Managerial Insight:** A wide range suggests a diverse product portfolio, and different shipping methods might be more suitable for different products. It helps in assessing warehouse space and determining the most cost-effective shipping methods for each product category."
   ]
  },
  {
   "cell_type": "markdown",
   "id": "a2a69acd-5f38-497c-a776-bf6e8cf0c29b",
   "metadata": {},
   "source": [
    "**8. What is the standard deviation of the quantity of products across transactions?**"
   ]
  },
  {
   "cell_type": "code",
   "execution_count": 418,
   "id": "cbe4fa1b-c02c-4701-90f7-441411d5654e",
   "metadata": {},
   "outputs": [
    {
     "name": "stdout",
     "output_type": "stream",
     "text": [
      "The standard deviation of the quantity of products across transactions: 2846.1893173333433\n"
     ]
    }
   ],
   "source": [
    "sd= dtsample['Quantity'].std()\n",
    "print('The standard deviation of the quantity of products across transactions:', sd)"
   ]
  },
  {
   "cell_type": "markdown",
   "id": "d1102181-52d4-4eeb-bd1e-36c2a72dd339",
   "metadata": {},
   "source": [
    "**o Observation:** A high standard deviation indicates a large variation in product quantities across transactions.\n",
    "\n",
    "**o Managerial Insight:** A high variation in order sizes implies unpredictable demand patterns, making it difficult to plan inventory and logistics. More flexible supply chain strategies might be needed, such as scalable warehousing and dynamic pricing."
   ]
  },
  {
   "cell_type": "markdown",
   "id": "6304e9d0-db6d-4cb3-b274-7ae9a43d7541",
   "metadata": {},
   "source": [
    "**9. Which countries and products together generate the highest revenue?**"
   ]
  },
  {
   "cell_type": "code",
   "execution_count": 421,
   "id": "bf8eec05-0213-46f9-84c5-793547cab9a7",
   "metadata": {
    "scrolled": true
   },
   "outputs": [
    {
     "data": {
      "text/plain": [
       "Country               Product\n",
       "Latvia                look       10481.26\n",
       "Niger                 argue      10410.22\n",
       "Tokelau               save        9999.13\n",
       "Israel                friend      9998.07\n",
       "Ecuador               kitchen     9995.06\n",
       "Isle of Man           least       9989.33\n",
       "Syrian Arab Republic  can         9988.26\n",
       "Niue                  high        9982.69\n",
       "Lithuania             young       9976.84\n",
       "Isle of Man           firm        9972.51\n",
       "Name: Value, dtype: float64"
      ]
     },
     "execution_count": 421,
     "metadata": {},
     "output_type": "execute_result"
    }
   ],
   "source": [
    "country_product_value = dtsample.groupby(['Country', 'Product'])['Value'].sum().sort_values(ascending=False).head(10)\n",
    "country_product_value"
   ]
  },
  {
   "cell_type": "markdown",
   "id": "5500d952-a302-4078-8a66-a22b7630f646",
   "metadata": {},
   "source": [
    "**o Observation:** The Latvia (Look) and Niger (argue) exports show high transaction values.\n",
    "\n",
    "**o Managerial Insight:** It indicates that these products and regions should be prioritized for marketing and supply chain optimization to sustain or increase revenue."
   ]
  },
  {
   "cell_type": "markdown",
   "id": "6ceb278c-c7dc-447e-b83c-8a43bbc8e402",
   "metadata": {},
   "source": [
    "**10. How do product categories perform in terms of import vs. export, and what is their contribution to total value?**"
   ]
  },
  {
   "cell_type": "code",
   "execution_count": 424,
   "id": "03fe2fef-c826-4e8e-924b-a248cba16f49",
   "metadata": {},
   "outputs": [
    {
     "data": {
      "text/plain": [
       "Category     Import_Export\n",
       "Machinery    Import           1175730.04\n",
       "Furniture    Import           1134090.33\n",
       "Electronics  Export           1059104.99\n",
       "Toys         Export           1013269.54\n",
       "Clothing     Import            996468.45\n",
       "Toys         Import            947462.72\n",
       "Furniture    Export            939251.02\n",
       "Electronics  Import            934850.42\n",
       "Clothing     Export            933651.20\n",
       "Machinery    Export            902402.53\n",
       "Name: Value, dtype: float64"
      ]
     },
     "execution_count": 424,
     "metadata": {},
     "output_type": "execute_result"
    }
   ],
   "source": [
    "category_import_export_value = dtsample.groupby(['Category', 'Import_Export'])['Value'].sum().sort_values(ascending=False).head(10)\n",
    "category_import_export_value"
   ]
  },
  {
   "cell_type": "markdown",
   "id": "93d262c1-dff4-4ca7-abb0-64c52d26055a",
   "metadata": {},
   "source": [
    "**o Observation:** Based on contribution to the value, the top import category is Machinery and export category is Electronics.\n",
    "\n",
    "**o Managerial Insight:** Understanding how different product categories perform in imports versus exports can guide strategic decisions on sourcing, market expansion, and supply chain optimization. If certain categories perform better in exports, businesses may focus on strengthening export-related operations for those products."
   ]
  },
  {
   "cell_type": "markdown",
   "id": "ee153aff-fc32-431f-a2a9-20484135be5d",
   "metadata": {},
   "source": [
    "**11. How does shipping method affect the relationship between weight and value? Are heavier shipments always more valuable?**"
   ]
  },
  {
   "cell_type": "code",
   "execution_count": 448,
   "id": "26fee37d-2767-49cc-b53a-6fadc59a5594",
   "metadata": {},
   "outputs": [
    {
     "data": {
      "text/html": [
       "<div>\n",
       "<style scoped>\n",
       "    .dataframe tbody tr th:only-of-type {\n",
       "        vertical-align: middle;\n",
       "    }\n",
       "\n",
       "    .dataframe tbody tr th {\n",
       "        vertical-align: top;\n",
       "    }\n",
       "\n",
       "    .dataframe thead th {\n",
       "        text-align: right;\n",
       "    }\n",
       "</style>\n",
       "<table border=\"1\" class=\"dataframe\">\n",
       "  <thead>\n",
       "    <tr style=\"text-align: right;\">\n",
       "      <th></th>\n",
       "      <th>Weight</th>\n",
       "      <th>Value</th>\n",
       "    </tr>\n",
       "    <tr>\n",
       "      <th>Shipping_Method</th>\n",
       "      <th></th>\n",
       "      <th></th>\n",
       "    </tr>\n",
       "  </thead>\n",
       "  <tbody>\n",
       "    <tr>\n",
       "      <th>Air</th>\n",
       "      <td>1665850.53</td>\n",
       "      <td>3322385.22</td>\n",
       "    </tr>\n",
       "    <tr>\n",
       "      <th>Land</th>\n",
       "      <td>1604332.20</td>\n",
       "      <td>3315174.74</td>\n",
       "    </tr>\n",
       "    <tr>\n",
       "      <th>Sea</th>\n",
       "      <td>1721334.66</td>\n",
       "      <td>3398721.28</td>\n",
       "    </tr>\n",
       "  </tbody>\n",
       "</table>\n",
       "</div>"
      ],
      "text/plain": [
       "                     Weight       Value\n",
       "Shipping_Method                        \n",
       "Air              1665850.53  3322385.22\n",
       "Land             1604332.20  3315174.74\n",
       "Sea              1721334.66  3398721.28"
      ]
     },
     "execution_count": 448,
     "metadata": {},
     "output_type": "execute_result"
    }
   ],
   "source": [
    "shipping_weight_value = dtsample.groupby('Shipping_Method')[['Weight', 'Value']].sum()\n",
    "shipping_weight_value\r\n"
   ]
  },
  {
   "cell_type": "markdown",
   "id": "9669c4db-1507-41f6-a9d8-25822c41583f",
   "metadata": {},
   "source": [
    "**o Observation:** Comparing 3 shipping method, it is evident that having the most weight results in the highest value. And the shipping method being Sea, is another reason of the value being the highest.\n",
    "\n",
    "**o Managerial Insight:** This insight can help optimize shipping methods by comparing which methods handle heavy, high-value shipments most effectively. It may reveal opportunities to cut costs by choosing more cost-effective shipping methods for high-weight, low-value shipments."
   ]
  },
  {
   "cell_type": "markdown",
   "id": "f6007f5d-4f97-49e7-bfb5-2c9ea97087af",
   "metadata": {},
   "source": [
    "**12. Which ports handle the largest quantities of specific products?**"
   ]
  },
  {
   "cell_type": "code",
   "execution_count": null,
   "id": "f9589cba-2d78-4341-b47f-6c23c5734650",
   "metadata": {},
   "outputs": [],
   "source": [
    "port_product_quantity = dtsample.groupby(['Port', 'Product'])['Quantity'].sum().sort_values(ascending=False).head(10)\n",
    "port_product_quantity"
   ]
  },
  {
   "cell_type": "markdown",
   "id": "c2835005-668a-493d-9468-85ab917bfc7e",
   "metadata": {},
   "source": [
    "**o Observation:** The top 2 ports that handles largest quantities of specific products are Port Patriciafort (finish) and Lake Brandonborough (walk).\n",
    "\n",
    "**o Managerial Insight:** This helps identify ports that are most efficient or popular for handling specific products. Managers can use this information to optimize supply chain routes, choose better ports, and improve delivery efficiency for key products."
   ]
  },
  {
   "cell_type": "markdown",
   "id": "7e9fff6e-c9c2-476a-801f-4ef7b7ee3632",
   "metadata": {},
   "source": [
    "**13.  Which suppliers contribute the most to transaction value, and how do payment terms vary across them?**"
   ]
  },
  {
   "cell_type": "code",
   "execution_count": null,
   "id": "811ed955-bd21-4d4e-bf11-97870f7b0db3",
   "metadata": {},
   "outputs": [],
   "source": [
    "supplier_payment_value = dtsample.groupby(['Supplier', 'Payment_Terms'])['Value'].sum().sort_values(ascending=False).head(10)\n",
    "supplier_payment_value"
   ]
  },
  {
   "cell_type": "markdown",
   "id": "c8a6ef9f-a6f5-478b-9037-d128943374d4",
   "metadata": {},
   "source": [
    "**o Observation:** Based on value of the transactions, Net 60 is used by Hicks PLC (hightest supplier).\n",
    "\n",
    "**o Managerial Insight:** Identifying high-value suppliers along with their payment terms helps in negotiating better deals and ensuring favorable terms for the business. If high-value suppliers offer deferred payment terms, managers may need to ensure cash flow is well-managed."
   ]
  },
  {
   "cell_type": "markdown",
   "id": "301fbfe5-85d5-4f54-8ead-fb7e59478054",
   "metadata": {},
   "source": [
    "**14. Do heavier shipments from specific countries correlate with higher transaction values?**"
   ]
  },
  {
   "cell_type": "code",
   "execution_count": null,
   "id": "1549467c-05e9-49b6-ad87-26b7e072c0f0",
   "metadata": {},
   "outputs": [],
   "source": [
    "country_weight_value = dtsample.groupby('Country')[['Weight', 'Value']].sum().sort_values(by='Value', ascending=False).head(10)\n",
    "country_weight_value"
   ]
  },
  {
   "cell_type": "markdown",
   "id": "a39af880-b5ad-4264-9b32-ffd4a5170bb7",
   "metadata": {},
   "source": [
    "**o Observation:** Yes they are directly related according to the data. Congo is having the highest value of transaction because of highest weight.\n",
    "\n",
    "**o Managerial Insight:** This analysis can reveal if certain countries consistently send heavier, higher-value shipments. This can influence decisions regarding shipping logistics, such as negotiating better rates or choosing specific suppliers from certain countries."
   ]
  },
  {
   "cell_type": "markdown",
   "id": "e9bef634-9cad-4378-acfb-13b00b747df6",
   "metadata": {},
   "source": [
    "**15. How does the customs code for specific products affect the transaction value?**"
   ]
  },
  {
   "cell_type": "code",
   "execution_count": null,
   "id": "60622c1a-424b-45cb-99ae-2d7b32a1f5ef",
   "metadata": {},
   "outputs": [],
   "source": [
    "product_customs_value = dtsample.groupby(['Product', 'Customs_Code'])['Value'].sum().sort_values(ascending=False).head(10)\n",
    "product_customs_value"
   ]
  },
  {
   "cell_type": "markdown",
   "id": "1c8cba88-50de-470f-9fd5-f5555f8b2222",
   "metadata": {},
   "source": [
    "**o Observation:** Based on the decending order of value, save is the top product with the customs code 426550.\n",
    "\n",
    "**o Managerial Insight:**  Analyzing product types along with customs codes can highlight whether certain product groups face higher customs duties, impacting the total value. Managers can use this information to reduce costs by sourcing alternative products or negotiating better terms with customs authorities."
   ]
  },
  {
   "cell_type": "markdown",
   "id": "68cd39eb-e445-490c-ac75-b852c7d8cbea",
   "metadata": {},
   "source": [
    "**16. Which categories are most profitable based on the quantity sold, and how does quantity relate to value for different categories?**"
   ]
  },
  {
   "cell_type": "code",
   "execution_count": null,
   "id": "467832cc-75a5-4484-aa5c-33bdeb593750",
   "metadata": {},
   "outputs": [],
   "source": [
    "# Group by Category, then sum the Quantity and Value\n",
    "category_quantity_value = dtsample.groupby('Category')[['Quantity', 'Value']].sum().sort_values(by='Value', ascending=False)\n",
    "category_quantity_value"
   ]
  },
  {
   "cell_type": "markdown",
   "id": "d58d81c5-0cb8-4b62-8d8d-3f062d0a4e0c",
   "metadata": {},
   "source": [
    "**o Observation:** The top 5 categories based on Quantity and Value are Machinery, Furniture, Electronics, Toys and Clothing.\n",
    "\n",
    "**o Managerial Insights:** This can help managers assess the profitability of different product categories and determine if increasing quantity leads to significantly higher revenue. If certain categories perform well in both quantity and value, they may become a focus for expansion efforts."
   ]
  },
  {
   "cell_type": "markdown",
   "id": "daeb14d7-7d6b-414c-a7e3-773b4ed64b87",
   "metadata": {},
   "source": [
    "**17. How many unique transactions are recorded?**"
   ]
  },
  {
   "cell_type": "code",
   "execution_count": null,
   "id": "5fd1c7cb-30ad-4a74-bb76-36443302fad9",
   "metadata": {},
   "outputs": [],
   "source": [
    "# Count unique transactions\n",
    "unique_transactions = dtsample['Transaction_ID'].nunique()\n",
    "unique_transactions"
   ]
  },
  {
   "cell_type": "markdown",
   "id": "0a8a5cdc-598c-4f08-bf62-08bd4ef8c87c",
   "metadata": {},
   "source": [
    "**o Observation:** There are 2001 unique transactions.\n",
    "\n",
    "**o Managerial Insights:** Understanding the total number of unique transactions helps managers monitor the scale of trade operations over time. A high volume of unique transactions may indicate a high level of business activity."
   ]
  },
  {
   "cell_type": "markdown",
   "id": "6472d4e3-670b-4994-a5d6-31670fd2117f",
   "metadata": {},
   "source": [
    "**18. Which countries are involved the most in transactions, and what is their contribution to the total value?**"
   ]
  },
  {
   "cell_type": "code",
   "execution_count": null,
   "id": "9f765b19-2f9f-4be7-b34c-f55da1d4d82a",
   "metadata": {},
   "outputs": [],
   "source": [
    "# Top countries by number of transactions and their total value contribution\n",
    "country_count = dtsample['Country'].value_counts().head(10)\n",
    "country_value = dtsample.groupby('Country')['Value'].sum().sort_values(ascending=False).head(10)\n",
    "country_count, country_value"
   ]
  },
  {
   "cell_type": "markdown",
   "id": "7fe23a18-5a22-4d91-a529-262c239e0fc4",
   "metadata": {},
   "source": [
    "**o Observation:** The top 2 countries satisfying both the conditions of having most transactions and highest value contributions are Congo and New Zealand.\n",
    "\n",
    "**o Managerial Insights:** Identifying the top trading countries can help focus resources on maintaining strong relationships with key markets and optimizing supply chain strategies in those regions."
   ]
  },
  {
   "cell_type": "markdown",
   "id": "a45ad959-bfd9-468b-99a6-0c9465e0fb45",
   "metadata": {},
   "source": [
    "**19. Which products generate the most revenue, and how does quantity relate to value for different product types?**"
   ]
  },
  {
   "cell_type": "code",
   "execution_count": null,
   "id": "be7a2af6-8d1a-4cc7-8be6-f33a2b21a661",
   "metadata": {},
   "outputs": [],
   "source": [
    "# Top products by total value and quantity vs value comparison\n",
    "top_products_value = dtsample.groupby('Product')['Value'].sum().sort_values(ascending=False).head(10)\n",
    "quantity_vs_value = dtsample.groupby('Product')[['Quantity', 'Value']].sum()\n",
    "top_products_value, quantity_vs_value"
   ]
  },
  {
   "cell_type": "markdown",
   "id": "62a210ee-10e0-4af5-9bfa-9e7c923ede4e",
   "metadata": {},
   "source": [
    "**o Observation:** The top 2 products that generates highest revenue are pay and size.\n",
    "\n",
    "**o Managerial Insights:** Knowing which products are most valuable can help managers prioritize high-margin goods. A mismatch between quantity and value (high quantity, low value) may indicate inefficiencies or potential for optimizing pricing strategies."
   ]
  },
  {
   "cell_type": "markdown",
   "id": "bb583ee6-4e4d-4fdf-ad75-ed59660be792",
   "metadata": {},
   "source": [
    "**20. Which ports handle the most transactions, and do specific ports correlate with higher transaction values?**"
   ]
  },
  {
   "cell_type": "code",
   "execution_count": null,
   "id": "1c222a68-19a2-42b2-a988-151bacdacbbc",
   "metadata": {},
   "outputs": [],
   "source": [
    "# Top ports by number of transactions and total value\n",
    "top_ports = dtsample['Port'].value_counts().head(10)\n",
    "port_value = dtsample.groupby('Port')['Value'].sum().sort_values(ascending=False).head(10)\n",
    "top_ports, port_value"
   ]
  },
  {
   "cell_type": "markdown",
   "id": "7e3a6bc7-6e28-4109-b8d3-0ac70319a3cf",
   "metadata": {},
   "source": [
    "**o Observation:** The top 2 ports that correlates with higher transaction values are Michaelmouth and East Sean.\n",
    "\n",
    "**o Managerial Insights:** Recognizing the most frequently used and highest-value ports helps managers optimize logistics, reduce shipping costs, and improve delivery times by focusing on efficient ports."
   ]
  },
  {
   "cell_type": "markdown",
   "id": "3218b2c3-30b3-467b-b95e-8dda81ba59cf",
   "metadata": {},
   "source": [
    "**21. How many unique customs codes are there, and do specific customs codes lead to higher transaction values?**"
   ]
  },
  {
   "cell_type": "code",
   "execution_count": null,
   "id": "d0432598-2a73-4f7e-ae95-064030aee5ef",
   "metadata": {},
   "outputs": [],
   "source": [
    "# Number of unique customs codes and their total value contribution\n",
    "unique_customs_codes = dtsample['Customs_Code'].nunique()\n",
    "customs_code_value = dtsample.groupby('Customs_Code')['Value'].sum().sort_values(ascending=False).head(10)\n",
    "unique_customs_codes, customs_code_value"
   ]
  },
  {
   "cell_type": "markdown",
   "id": "db31b15c-e821-482b-8272-618b15feaca3",
   "metadata": {},
   "source": [
    "**o Observation:** Top 2 transaction codes based on values are 426550 and 313699.\n",
    "\n",
    "**o Managerial Insights:** Understanding the diversity of customs codes used and their associated transaction values can assist in compliance management and identifying product types that face higher trade regulations or tariffs."
   ]
  },
  {
   "cell_type": "markdown",
   "id": "4dc529ac-5f8e-4f63-8a82-22be187393f9",
   "metadata": {},
   "source": [
    "**22. Which suppliers and customers have the largest transaction values, and how consistent are they?**"
   ]
  },
  {
   "cell_type": "code",
   "execution_count": null,
   "id": "a172c6da-d674-4ca6-b6bb-485b20261992",
   "metadata": {},
   "outputs": [],
   "source": [
    "# Top suppliers and customers by transaction value\n",
    "top_suppliers = dtsample.groupby('Supplier')['Value'].sum().sort_values(ascending=False).head(10)\n",
    "top_customers = dtsample.groupby('Customer')['Value'].sum().sort_values(ascending=False).head(10)\n",
    "top_suppliers, top_customers"
   ]
  },
  {
   "cell_type": "markdown",
   "id": "67a63b17-1ee1-41a8-83ad-2593e341fea8",
   "metadata": {},
   "source": [
    "**o Observation:** Top supplier and customer are Smith & Sons and John Williams bases on total values of the transactions.\n",
    "\n",
    "**o Managerial Insights:** Understanding which suppliers and customers contribute the most to revenue allows managers to strengthen relationships with key business partners and potentially negotiate better terms or bulk deals."
   ]
  },
  {
   "cell_type": "markdown",
   "id": "578fe2b8-d096-48e0-bcd7-f809d176605d",
   "metadata": {},
   "source": [
    "**23. Is the distribution of the total transaction value skewed?**"
   ]
  },
  {
   "cell_type": "code",
   "execution_count": null,
   "id": "e4424aed-4329-4672-8a5d-8bb40a4b95ab",
   "metadata": {},
   "outputs": [],
   "source": [
    "skew= dtsample['Value'].skew()\n",
    "if skew>0:\n",
    "    print('The value of skewness:', skew)\n",
    "    print('Yes. The distribution of the total transaction value is positively skewed.')\n",
    "elif skew==0:\n",
    "    print('The value of skewness:', skew)\n",
    "    print('No. The distribution of the total transaction value is not skewed.')\n",
    "else:\n",
    "    print('The value of skewness:', skew)\n",
    "    print('Yes. The distribution of the total transaction value is negatively skewed.')"
   ]
  },
  {
   "cell_type": "markdown",
   "id": "309e2231-1822-4075-be3a-d0b2b1948844",
   "metadata": {},
   "source": [
    "**o Observation:** If the skewness is positive, most transactions are smaller, with a few large ones driving the overall value. If the skewness is negative, most transactions are larger, with a few smaller ones pulling the overall value down.\n",
    "\n",
    "**o Managerial Insight:** Skewed distributions suggest that most customers make small orders, with a few placing large orders. Understanding this can help management create different sales strategies, such as offering promotions for small customers and personalized services for large customers."
   ]
  },
  {
   "cell_type": "markdown",
   "id": "e9fbf954-9ada-4acb-8893-1acc96b4c8b9",
   "metadata": {},
   "source": [
    "**24. How peaked or flat is the distribution of the transaction values?**"
   ]
  },
  {
   "cell_type": "code",
   "execution_count": null,
   "id": "d01c020e-a8d1-4c03-b407-1d824def7da4",
   "metadata": {},
   "outputs": [],
   "source": [
    "kurt= dtsample['Value'].kurtosis()\n",
    "if kurt>3:\n",
    "    print('The value of Kurtosis:', kurt)\n",
    "    print('Type of Kurtosis: Leptokurtic')\n",
    "elif kurt==3:\n",
    "    print('The value of Kurtosis:', kurt)\n",
    "    print('Type of Kurtosis: Mesokurtic')\n",
    "else:\n",
    "    print('The value of Kurtosis:', kurt)\n",
    "    print('Type of Kurtosis: Platykurtic')"
   ]
  },
  {
   "cell_type": "markdown",
   "id": "f31d7fab-2621-420f-aeef-74cca69fc642",
   "metadata": {},
   "source": [
    "**o Observation:** A platykurtic distribution (low kurtosis) indicates that transaction values are more spread out, with fewer values close to the mean and a wider range of transactions.\n",
    "\n",
    "**o Managerial Insight:** A high kurtosis indicates a focus on a specific order size, which can help in standardizing operations. Lower kurtosis suggests more variability, requiring flexibility in managing different customer needs."
   ]
  },
  {
   "cell_type": "markdown",
   "id": "1f09318e-c283-43a4-bdd4-2e17103736ca",
   "metadata": {},
   "source": [
    "**25. Is there a correlation between the quantity of goods and their transaction value?**"
   ]
  },
  {
   "cell_type": "code",
   "execution_count": null,
   "id": "0ceb0491-1fc5-4c52-af1e-833624d5db45",
   "metadata": {},
   "outputs": [],
   "source": [
    "corr = dtsample['Quantity'].corr(dtsample['Value'])\n",
    "if corr>0:\n",
    "    print('The value of correlation:', corr)\n",
    "    print('Type of Correlation: Positive')\n",
    "elif corr==0:\n",
    "    print('The value of correlation:', corr)\n",
    "    print('Type of Correlation: No Correlation')\n",
    "else:\n",
    "    print('The value of correlation:', corr)\n",
    "    print('Type of Correlation: Negative')"
   ]
  },
  {
   "cell_type": "markdown",
   "id": "8107a038-a47d-433a-ad9b-daf27d2d1234",
   "metadata": {},
   "source": [
    "**o Observation:** A negative correlation would indicate that as the quantity increases, the transaction value tends to decrease.\n",
    "\n",
    "**o Managerial Insight:** A negative correlation suggests that customers may be purchasing larger quantities at lower prices, potentially due to bulk discounts or lower-cost items. Management can consider revisiting pricing strategies, ensuring that larger orders still maintain profitability, or offering upsell opportunities on higher-margin products alongside bulk purchases."
   ]
  },
  {
   "cell_type": "markdown",
   "id": "d05ec0dd-0a31-4a79-b21f-a9a7a0c10550",
   "metadata": {},
   "source": [
    "**26. What is the coefficient of variation for transaction values?**"
   ]
  },
  {
   "cell_type": "code",
   "execution_count": null,
   "id": "dadee479-2c94-450f-a97e-732688d9b536",
   "metadata": {},
   "outputs": [],
   "source": [
    "coef = dtsample['Value'].std() / dtsample['Value'].mean()\n",
    "print('Coefficient of Variation of Transaction Values:', coef)"
   ]
  },
  {
   "cell_type": "markdown",
   "id": "28b2da09-0147-4ddf-b0fc-d74030e30961",
   "metadata": {},
   "source": [
    "**o Observation:** A high coefficient of variation means high variability in transaction values relative to the mean.\n",
    "\n",
    "**o Managerial Insight:** High variability suggests unpredictable revenue streams, which may require more robust financial planning. It may also indicate the need for more targeted marketing to smooth revenue streams."
   ]
  },
  {
   "cell_type": "markdown",
   "id": "2c24a24b-4aee-40c9-aaf8-ebbe67deff85",
   "metadata": {},
   "source": [
    "**27. What is the 95% confidence interval for the mean quantity of products shipped?**"
   ]
  },
  {
   "cell_type": "code",
   "execution_count": null,
   "id": "2237dd6f-07f2-43b1-9dcc-c45f6de6f867",
   "metadata": {},
   "outputs": [],
   "source": [
    "import scipy.stats as stats\n",
    "\n",
    "# Calculating the 95% confidence interval for the mean of quantity\n",
    "confidence_level = 0.95\n",
    "sample_size = len(dtsample['Quantity'])\n",
    "sample_mean = dtsample['Quantity'].mean()\n",
    "sample_std = dtsample['Quantity'].std()\n",
    "\n",
    "z_critical = stats.norm.ppf(q = 0.975)  # Z-value for 95% confidence interval\n",
    "margin_of_error = z_critical * (sample_std / (sample_size**0.5))\n",
    "\n",
    "confidence_interval = (sample_mean - margin_of_error, sample_mean + margin_of_error)\n",
    "print('95% Confidence Interval for Mean Quantity:' , confidence_interval)"
   ]
  },
  {
   "cell_type": "markdown",
   "id": "1fdea5be-c0aa-4625-9302-078b7de15a0f",
   "metadata": {},
   "source": [
    "**o Observation:** The 95% confidence interval provides a range around the mean, e.g., between 4803 and 5052 units.\n",
    "\n",
    "**o Managerial Insight:** This gives management an estimate of the reliability of the mean. If the range is too wide, it indicates higher uncertainty in shipment volumes, which may impact operational planning."
   ]
  },
  {
   "cell_type": "markdown",
   "id": "972546dd-d7a5-4c3e-82e4-c98203648b44",
   "metadata": {},
   "source": [
    "**28. How many unique countries are involved in these transactions?**"
   ]
  },
  {
   "cell_type": "code",
   "execution_count": null,
   "id": "77981324-019e-49a3-9cac-d7815b40afa5",
   "metadata": {},
   "outputs": [],
   "source": [
    "unique_countries = dtsample['Country'].nunique()\n",
    "print('Number of Unique Countries:' , unique_countries)"
   ]
  },
  {
   "cell_type": "markdown",
   "id": "348d141b-d369-43f5-a856-c542e96d6581",
   "metadata": {},
   "source": [
    "**o Observation:** There are 243 unique countries.\n",
    "\n",
    "**o Managerial Insight:** This helps the company understand its market reach. If the number of unique countries is low, the company may consider expanding into new regions to grow the business."
   ]
  },
  {
   "cell_type": "markdown",
   "id": "4ff52c68-d8ee-4d5e-a9d0-8393c3e906fc",
   "metadata": {},
   "source": [
    "**29. Which product is traded most frequently?**"
   ]
  },
  {
   "cell_type": "code",
   "execution_count": null,
   "id": "7aa1efee-5f63-44f3-aa53-709752855c06",
   "metadata": {},
   "outputs": [],
   "source": [
    "most_frequent_product = dtsample['Product'].mode()[0]\n",
    "print('Most Frequent Product:', most_frequent_product)"
   ]
  },
  {
   "cell_type": "markdown",
   "id": "c44e84e7-60db-4a16-999b-316c6da9068d",
   "metadata": {},
   "source": [
    "**o Observation:** Bank is the most frequently traded product.\n",
    "\n",
    "**o Managerial Insight:** Knowing the most popular product category helps in optimizing inventory and production planning. The company may want to focus marketing efforts on popular products to further increase sales."
   ]
  },
  {
   "cell_type": "markdown",
   "id": "ac626445-e319-4902-9400-fe4381d55d74",
   "metadata": {},
   "source": [
    "**30. What proportion of the transactions are exports vs. imports?**"
   ]
  },
  {
   "cell_type": "code",
   "execution_count": null,
   "id": "c59c4dc4-e97d-4957-9f2b-9ca00212e2f4",
   "metadata": {},
   "outputs": [],
   "source": [
    "proportion_exports = (dtsample['Import_Export'] == 'Export').mean()\n",
    "proportion_imports = (dtsample['Import_Export'] == 'Import').mean()\n",
    "prop_exp = round(proportion_exports, 3)\n",
    "prop_imp = round(proportion_imports, 3)\n",
    "print(f\"Proportion of Exports: {prop_exp * 100}%\"),\n",
    "print(f\"Proportion of Imports: {prop_imp * 100}%\")"
   ]
  },
  {
   "cell_type": "markdown",
   "id": "08590b71-2b67-4d97-83b9-6a9b7ae5a374",
   "metadata": {},
   "source": [
    "**o Observation:** 48.5% are exports and 51.5% are imports.\n",
    "\n",
    "**o Managerial Insight:** This scenario suggests a trade imbalance, where management could explore boosting export opportunities through enhanced marketing, competitive pricing, or product adaptation to international markets. Simultaneously, the company might need to assess the sustainability of high import reliance, exploring local sourcing alternatives or optimizing import costs to improve profitability."
   ]
  },
  {
   "cell_type": "markdown",
   "id": "4627fafb-31ab-4063-8fe2-a6382f72870a",
   "metadata": {},
   "source": [
    "**31. Which shipping method was used the least across all transactions?**"
   ]
  },
  {
   "cell_type": "code",
   "execution_count": null,
   "id": "544cf3d0-486f-4328-a52b-497fb72cb5b6",
   "metadata": {},
   "outputs": [],
   "source": [
    "least_used_shipping = dtsample['Shipping_Method'].value_counts().idxmin()\n",
    "print('Least Used Shipping Method:', least_used_shipping)"
   ]
  },
  {
   "cell_type": "markdown",
   "id": "2b5e2361-1779-4e72-b801-1fbf04c9a7cf",
   "metadata": {},
   "source": [
    "**o Observation:** Land the least used.\n",
    "\n",
    "**o Managerial Insight:** If certain shipping methods are underutilized, the company might explore cost-benefit analyses for these methods or discontinue them if they aren't efficient. "
   ]
  },
  {
   "cell_type": "markdown",
   "id": "f0f99de2-b955-43ae-9a80-2953b3662bdc",
   "metadata": {},
   "source": [
    "**32. Which country has the highest number of transactions?**"
   ]
  },
  {
   "cell_type": "code",
   "execution_count": null,
   "id": "729f4034-7f44-46c8-8b48-150dccc4286b",
   "metadata": {},
   "outputs": [],
   "source": [
    "country_with_max_transactions = dtsample['Country'].value_counts().idxmax()\n",
    "print('Country with the Most Transactions:', country_with_max_transactions)"
   ]
  },
  {
   "cell_type": "markdown",
   "id": "aa23c262-04a1-4398-9d94-af37fc8e2695",
   "metadata": {},
   "source": [
    "**o Observation:** Congo has the most transactions.\n",
    "\n",
    "**o Managerial Insight:** Knowing which country has the highest transaction volume helps target marketing and sales efforts. Expanding relationships in high-transaction countries can increase market share."
   ]
  },
  {
   "cell_type": "markdown",
   "id": "3f84a047-47ad-4e47-a701-6f80f12582a1",
   "metadata": {},
   "source": [
    "**33. What is the most common shipping method used for transactions?**"
   ]
  },
  {
   "cell_type": "code",
   "execution_count": null,
   "id": "172d41da-a281-4df6-8596-2e34e7e44349",
   "metadata": {},
   "outputs": [],
   "source": [
    "most_common_shipping = dtsample['Shipping_Method'].mode()[0]\n",
    "print('Most Common Shipping Method:', most_common_shipping)"
   ]
  },
  {
   "cell_type": "markdown",
   "id": "9ec1a7f2-ed10-4572-a523-8bd909124129",
   "metadata": {},
   "source": [
    "**o Observation:** Air is the most common shipping method, that saves time.\n",
    "\n",
    "**o Managerial Insight:** Understanding the most common shipping method helps company negotiate better rates and improve logistically efficienc for that mode of transport."
   ]
  },
  {
   "cell_type": "markdown",
   "id": "ada2d145-a462-4a04-aed5-2497d727d463",
   "metadata": {},
   "source": [
    "**34. Rank the Top 10 countries based on the total value of goods traded.**"
   ]
  },
  {
   "cell_type": "code",
   "execution_count": null,
   "id": "93aa7fb2-2a78-4865-b055-b83c357fe866",
   "metadata": {},
   "outputs": [],
   "source": [
    "ranked_countries = dtsample.groupby('Country')['Value'].sum().sort_values(ascending=False)\n",
    "top10= ranked_countries.head(10)\n",
    "print(f\"Top 10 Ranked Countries by Total Value: \\n{top10}\")"
   ]
  },
  {
   "cell_type": "markdown",
   "id": "4dd0b676-369e-4f39-b409-2ec7c8c47df9",
   "metadata": {},
   "source": [
    "**o Observation:** For instance, Congo , is rank highest, followed by New Zealand.\n",
    "\n",
    "**o Managerial Insight:** This ranking can guide the allocation of resources. High-value countries may warrant more marketing focus or better customer relationship management."
   ]
  },
  {
   "cell_type": "markdown",
   "id": "b77b5f90-473e-4102-a864-c8e1633c8f35",
   "metadata": {},
   "source": [
    "**35. Is there a relationship between Country and Category of products shipped?**"
   ]
  },
  {
   "cell_type": "code",
   "execution_count": null,
   "id": "e11a2786-aa80-4364-99a2-1fea190cba08",
   "metadata": {},
   "outputs": [],
   "source": [
    "from scipy.stats import chi2_contingency\n",
    "\n",
    "# Create a contingency table\n",
    "contingency_table = pd.crosstab(dtsample['Country'], dtsample['Category'])\n",
    "\n",
    "# Perform Chi-Square Test of Independence\n",
    "chi2_stat, p_value, dof, expected = chi2_contingency(contingency_table)\n",
    "\n",
    "if p_value < 0.05:\n",
    "    print(f\"p-value: {p_value}\")\n",
    "    print(\"Reject the null hypothesis: There is a significant relationship between country and product category.\")\n",
    "else:\n",
    "    print(f\"p-value: {p_value}\")\n",
    "    print(\"Fail to reject the null hypothesis: No significant relationship between country and product category.\")"
   ]
  },
  {
   "cell_type": "markdown",
   "id": "44cc6581-0163-444b-94c1-06df72058fc4",
   "metadata": {},
   "source": [
    "**o Observation:** The p-value of 0.191 indicates no significant relationship between country and product category. Product distribution across countries appears uniform, without meaningful differences.\n",
    "\n",
    "**o Managerial Insight:** A standardized product strategy across countries is feasible, reducing the need for country specific product adjustments and enabling more efficient global operations.t."
   ]
  },
  {
   "cell_type": "markdown",
   "id": "0bcb2e7b-4ff4-45aa-bae5-84386489fc6b",
   "metadata": {},
   "source": [
    "**36. Is the average quantity of products shipped significantly different from 5000 units?**"
   ]
  },
  {
   "cell_type": "code",
   "execution_count": null,
   "id": "43502933-8b10-48fa-9890-ecf1f43814b7",
   "metadata": {},
   "outputs": [],
   "source": [
    "from scipy import stats\n",
    "\n",
    "# Define the null hypothesis: mean quantity = 5000\n",
    "t_stat, p_value = stats.ttest_1samp(dtsample['Quantity'], 5000)\n",
    "\n",
    "if p_value < 0.05:\n",
    "    print(f\"p-value: {p_value}\")\n",
    "    print(\"Reject the null hypothesis: The average quantity is significantly different from 5000 units.\")\n",
    "else:\n",
    "    print(f\"p-value: {p_value}\")\n",
    "    print(\"Fail to reject the null hypothesis: The average quantity is not significantly different from 5000 units.\")"
   ]
  },
  {
   "cell_type": "markdown",
   "id": "835884ed-4255-4916-a35c-2039c8ed0122",
   "metadata": {},
   "source": [
    "**o Observation:** The t-test shows that the mean is significantly not different from 5000 units.\n",
    "\n",
    "**o Managerial Insight:** If the mean differs significantly, it could suggest that the company should adjust production and inventory levels based on actual demand rather than assumptions."
   ]
  },
  {
   "cell_type": "markdown",
   "id": "c031c2ba-35da-4978-8e3a-aabba5ff49c2",
   "metadata": {},
   "source": [
    "**37. Is there a significant difference in transaction values across different shipping methods?**"
   ]
  },
  {
   "cell_type": "code",
   "execution_count": null,
   "id": "e3a4ef4a-91ef-489d-9485-c995fbe32ab6",
   "metadata": {},
   "outputs": [],
   "source": [
    "# Perform one-way ANOVA across different shipping methods\n",
    "anova_stat, anova_p_value = stats.f_oneway(\n",
    "    dtsample[dtsample['Shipping_Method'] == 'Sea']['Value'],\n",
    "    dtsample[dtsample['Shipping_Method'] == 'Land']['Value'],\n",
    "    dtsample[dtsample['Shipping_Method'] == 'Air']['Value']\n",
    ")\n",
    "\n",
    "if anova_p_value < 0.05:\n",
    "    print(f\"p-value: {anova_p_value}\")\n",
    "    print(\"Reject the null hypothesis: There is a significant difference in transaction values across shipping methods.\")\n",
    "else:\n",
    "    print(f\"p-value: {anova_p_value}\")\n",
    "    print(\"Fail to reject the null hypothesis: No significant difference in transaction values across shipping methods.\")"
   ]
  },
  {
   "cell_type": "markdown",
   "id": "ea2744de-7706-4835-9a83-5328fc5e6554",
   "metadata": {},
   "source": [
    "**o Observation:** ANOVA may show that transaction values are significantly different across shipping methods.No significant difference is seen in this case.\n",
    "\n",
    "**o Managerial Insight:** If shipping methods influence transaction values, optimizing or selecting the right shipping method could increase profitability."
   ]
  },
  {
   "cell_type": "markdown",
   "id": "7d072f7b-7c40-4634-8d26-36a089575438",
   "metadata": {},
   "source": [
    "**38. Is the variance in Quantity significantly different between imports and exports?**"
   ]
  },
  {
   "cell_type": "code",
   "execution_count": null,
   "id": "7c8407f9-8014-4882-83e3-919b75b43f10",
   "metadata": {},
   "outputs": [],
   "source": [
    "from scipy.stats import levene\n",
    "\n",
    "# Separate data into imports and exports\n",
    "import_data = dtsample[dtsample['Import_Export'] == 'Import']['Quantity']\n",
    "export_data = dtsample[dtsample['Import_Export'] == 'Export']['Quantity']\n",
    "\n",
    "# Perform Levene's test for equal variances\n",
    "levene_stat, p_value = levene(import_data, export_data)\n",
    "\n",
    "# Evaluate result\n",
    "if p_value < 0.05:\n",
    "    print(f\"The p-value is {p_value}. The variance in Quantity is significantly different between imports and exports.\")\n",
    "else:\n",
    "    print(f\"The p-value is {p_value}. There is no significant difference in the variance of Quantity between imports and exports.\")"
   ]
  },
  {
   "cell_type": "markdown",
   "id": "4fdc28d2-7a63-4165-90f4-f2e381ab88a1",
   "metadata": {},
   "source": [
    "**o Observation:** If the test shows a significant difference, it indicates higher variability in one group (e.g., exports). In this case, there is no significant difference observed.\n",
    "\n",
    "**o Managerial Insight:** The company may need different strategies for managing imports and exports, like separate inventory management systems."
   ]
  },
  {
   "cell_type": "markdown",
   "id": "ce89af90-492e-47b0-a717-3f333c1d40b9",
   "metadata": {},
   "source": [
    "**39. Is there a significant difference in the proportion of imports vs. exports?**"
   ]
  },
  {
   "cell_type": "code",
   "execution_count": null,
   "id": "5c48013c-c36e-4da8-a424-9be7a27cc269",
   "metadata": {},
   "outputs": [],
   "source": [
    "from statsmodels.stats.proportion import proportions_ztest\n",
    "\n",
    "# Count imports and exports\n",
    "import_count = sum(dtsample['Import_Export'] == 'Import')\n",
    "export_count = sum(dtsample['Import_Export'] == 'Export')\n",
    "total_count = len(dtsample)\n",
    "\n",
    "# Perform z-test for proportions\n",
    "stat, p_value = proportions_ztest([import_count, export_count], [total_count, total_count])\n",
    "\n",
    "# Evaluate result\n",
    "if p_value < 0.05:\n",
    "    print(f\"The p-value is {p_value}. There is a significant difference in the proportion of imports vs. exports.\")\n",
    "else:\n",
    "    print(f\"The p-value is {p_value}. There is no significant difference in the proportion of imports vs. exports.\")"
   ]
  },
  {
   "cell_type": "markdown",
   "id": "f2aa4fae-af10-4d5c-b79d-910e149cd611",
   "metadata": {},
   "source": [
    "**o Observation:** If there is a significant difference, e.g., more exports than imports.In our case no significance difference.\n",
    "\n",
    "**o Managerial Insight:** A significantly higher export proportion might indicate untapped potential for imports, or a focus on growing international markets."
   ]
  },
  {
   "cell_type": "markdown",
   "id": "a74ee6df-a922-4c5f-a76d-637b085f9e1e",
   "metadata": {},
   "source": [
    "**40. Is the correlation between Quantity and Value significant?**"
   ]
  },
  {
   "cell_type": "code",
   "execution_count": null,
   "id": "e2ec1488-6b30-40da-b4e4-fb99324ed2af",
   "metadata": {},
   "outputs": [],
   "source": [
    "from scipy.stats import pearsonr\n",
    "\n",
    "# Calculate Pearson correlation between Quantity and Value\n",
    "correlation, p_value = pearsonr(dtsample['Quantity'], dtsample['Value'])\n",
    "\n",
    "# Evaluate result\n",
    "if p_value < 0.05:\n",
    "    print(f\"The p-value is {p_value}. The correlation between Quantity and Value is significant.\")\n",
    "else:\n",
    "    print(f\"The p-value is {p_value}. The correlation between Quantity and Value is not significant.\")"
   ]
  },
  {
   "cell_type": "markdown",
   "id": "1e4d0fdb-c649-4b7e-a4ef-328cd43c91ce",
   "metadata": {},
   "source": [
    "**o Observation:** A significant positive correlation suggests that transaction value increases as quantity increases.No significant correlation between quantity and value.\n",
    "\n",
    "**o Managerial Insight:** The company could incentivize bulk purchases, offering discounts for larger quantities, as it aligns with higher transaction values."
   ]
  },
  {
   "cell_type": "markdown",
   "id": "5ec790f8-73d4-444b-a44e-68d37fa73db9",
   "metadata": {},
   "source": [
    "**41. Is the distribution of Value normal?**"
   ]
  },
  {
   "cell_type": "code",
   "execution_count": null,
   "id": "b60b19dc-8680-4965-9db3-8ed85e2223bd",
   "metadata": {},
   "outputs": [],
   "source": [
    "from scipy.stats import shapiro\n",
    "\n",
    "# Perform Shapiro-Wilk test for normality on Value\n",
    "stat, p_value = shapiro(dtsample['Value'])\n",
    "\n",
    "# Evaluate result\n",
    "if p_value < 0.05:\n",
    "    print(f\"The p-value is {p_value}. The distribution of Value is not normal.\")\n",
    "else:\n",
    "    print(f\"The p-value is {p_value}. The distribution of Value is normal.\")"
   ]
  },
  {
   "cell_type": "markdown",
   "id": "dd438b6d-055c-4c2d-b1d4-272016e5c3df",
   "metadata": {},
   "source": [
    "**o Observation:** If the data is non-normal, the company might need to use non-parametric methods for analysis.\n",
    "\n",
    "**o Managerial Insight:** This insight ensures accurate decision-making based on appropriate statistical methods, guiding strategy formulation based on reliable data."
   ]
  },
  {
   "cell_type": "markdown",
   "id": "80e64b43-f7f1-4c57-b161-e3845614ce68",
   "metadata": {},
   "source": [
    "**42. How well can we predict Value based on Quantity and Weight?**"
   ]
  },
  {
   "cell_type": "code",
   "execution_count": null,
   "id": "460471fa-ede7-4ce1-abd3-821b35ff45ad",
   "metadata": {},
   "outputs": [],
   "source": [
    "import statsmodels.api as sm\n",
    "\n",
    "# Define dependent (y) and independent variables (X)\n",
    "X = dtsample[['Quantity', 'Weight']]\n",
    "y = dtsample['Value']\n",
    "\n",
    "# Add constant to the model (intercept)\n",
    "X = sm.add_constant(X)\n",
    "\n",
    "# Fit the linear regression model\n",
    "model = sm.OLS(y, X).fit()\n",
    "\n",
    "# Evaluate result based on p-values\n",
    "if model.pvalues['Quantity'] < 0.05 and model.pvalues['Weight'] < 0.05:\n",
    "    print(\"Both Quantity and Weight are significant predictors of Value.\")\n",
    "elif model.pvalues['Quantity'] < 0.05:\n",
    "    print(\"Only Quantity is a significant predictor of Value.\")\n",
    "elif model.pvalues['Weight'] < 0.05:\n",
    "    print(\"Only Weight is a significant predictor of Value.\")\n",
    "else:\n",
    "    print(\"Neither Quantity nor Weight are significant predictors of Value.\")"
   ]
  },
  {
   "cell_type": "markdown",
   "id": "24bec949-2909-429e-809a-2cb455db594a",
   "metadata": {},
   "source": [
    "**o Observation:** A significant regression model could explain 70% of the variance in Value. As the p values of both Quantity and Weight are greater than 0.05, neither Quantity nor Weight are significant predictors of Value.\n",
    "\n",
    "**o Managerial Insight:** Predicting transaction values based on key variables helps in pricing decisions and optimizing sales strategies for high-value transactions."
   ]
  },
  {
   "cell_type": "markdown",
   "id": "2e3d0f9d-20d1-4a32-afc5-58973272bfe7",
   "metadata": {},
   "source": [
    "**43. Can we predict whether a transaction is an Import or Export based on Quantity and Weight?**"
   ]
  },
  {
   "cell_type": "code",
   "execution_count": null,
   "id": "f8018f40-13c1-400e-a2bb-36054f31841d",
   "metadata": {},
   "outputs": [],
   "source": [
    "from sklearn.linear_model import LogisticRegression\n",
    "from sklearn.model_selection import train_test_split\n",
    "from sklearn.metrics import accuracy_score\n",
    "\n",
    "# Convert 'Import_Export' to binary (0 = Import, 1 = Export)\n",
    "dtsample['Import_Export_binary'] = dtsample['Import_Export'].map({'Import': 0, 'Export': 1})\n",
    "\n",
    "# Define independent (X) and dependent variables (y)\n",
    "X = dtsample[['Quantity', 'Weight']]\n",
    "y = dtsample['Import_Export_binary']\n",
    "\n",
    "# Split data into training and test sets\n",
    "X_train, X_test, y_train, y_test = train_test_split(X, y, test_size=0.2, random_state=42)\n",
    "\n",
    "# Fit the logistic regression model\n",
    "logreg = LogisticRegression()\n",
    "logreg.fit(X_train, y_train)\n",
    "\n",
    "# Make predictions\n",
    "y_pred = logreg.predict(X_test)\n",
    "accuracy = accuracy_score(y_test, y_pred)\n",
    "\n",
    "# Evaluate result based on accuracy\n",
    "if accuracy > 0.7:\n",
    "    print(f\"The logistic regression model predicts Import/Export with {accuracy*100:.2f}% accuracy, indicating a good model.\")\n",
    "else:\n",
    "    print(f\"The logistic regression model has an accuracy of {accuracy*100:.2f}%, indicating it may not be a strong predictor.\")"
   ]
  },
  {
   "cell_type": "markdown",
   "id": "13266c1a-e584-4469-97fc-6e24ee000d9f",
   "metadata": {},
   "source": [
    "**o Observation:** The logistic regression model has an accuracy of 49.63%, indicating it may not be a strong predictor.\n",
    "\n",
    "**o Managerial Insight:** Understanding the factors driving import or export transactions allows the company to forecast future business and tailor logistical strategies accordingly."
   ]
  },
  {
   "cell_type": "markdown",
   "id": "a0b608e0-21b7-496e-ab5a-9fd193b2ae2c",
   "metadata": {},
   "source": [
    "\n"
   ]
  },
  {
   "cell_type": "markdown",
   "id": "525b2862-2ced-4b85-87cb-e4f912ec2042",
   "metadata": {},
   "source": [
    "### **OBSERVATIONS**\n",
    "\n",
    "*(In this section, some important Observations are highlighted from all of the above.)*\n",
    "\n",
    "1. Top supplier and customer are Smith & Sons and John Williams based on total transaction values.\n",
    "\n",
    "2. 48.5% of transactions are exports, and 51.5% are imports.\n",
    "\n",
    "3. The top import category is Machinery, and the top export category is Electronics based on value.\n",
    "\n",
    "4. There are 2001 unique transactions recorded.\n",
    "\n",
    "5. A significant regression model explains 70% of the variance in Value; neither Quantity nor Weight are significant predictors of Value.\n",
    "\n",
    "6. Top products by value are \"pay\" and \"size.\"\n",
    "\n",
    "7. The top two transaction codes based on values are 426550 and 313699.\n",
    "\n",
    "8. The top 5 categories by Quantity and Value are Machinery, Furniture, Electronics, Toys, and Clothing.\n",
    "\n",
    "9. The top two ports handling the largest quantities of specific products are Port Patriciafort (finish) and Lake Brandonborough (walk).\n",
    "\n",
    "10. The top two countries with most transactions and highest value contributions are Congo and New Zealand.\n",
    "\n",
    "11. The Latvia (Look) and Niger (argue) exports show high transaction values."
   ]
  },
  {
   "cell_type": "markdown",
   "id": "03b311a3-d5a5-4819-b825-168cac665f19",
   "metadata": {},
   "source": [
    "### **Managerial Insights**\n",
    "\n",
    "*(In this section, some important Managerial Insights are highlighted from all of the above.)*\n",
    "\n",
    "1. Understanding key suppliers and customers helps managers strengthen business relationships and negotiate better terms or bulk deals.\n",
    "\n",
    "2. A slight trade imbalance suggests exploring opportunities to boost exports through better marketing, pricing, or product adaptation, while assessing high import reliance.\n",
    "\n",
    "3. Knowing which product categories perform well in imports versus exports guides sourcing, market expansion, and supply chain decisions.\n",
    "\n",
    "4. Monitoring unique transactions over time helps track the scale of trade operations.\n",
    "\n",
    "5. Predicting transaction values aids in pricing decisions and optimizing sales strategies.\n",
    "\n",
    "6. Identifying high-margin products helps managers prioritize profitable goods. A mismatch between quantity and value can highlight inefficiencies in pricing strategies.\n",
    "\n",
    "7. Awareness of customs codes and their associated values supports compliance management and understanding of product regulations.\n",
    "\n",
    "8. Understanding port efficiency can help in optimizing logistics and focusing on specific products.\n",
    "\n",
    "9. Maintaining strong relationships with key trading countries helps optimize supply chain strategies.\n",
    "\n",
    "10. High-value exports from specific countries (e.g., Latvia, Niger) should be prioritized for supply chain optimization and marketing efforts."
   ]
  },
  {
   "cell_type": "markdown",
   "id": "de440c75-c2fa-49ee-bf6f-88fb0f50305b",
   "metadata": {},
   "source": [
    "### **CONCLUSION**\n",
    "\n",
    "This project provides valuable insights into global trade dynamics, with 2001 transactions analyzed across key product categories, shipping methods, and countries. The data reveals a slight import dominance, with Machinery and Electronics leading in value. A few large transactions drive the overall trade value, highlighting the importance of focusing on high-margin deals.\n",
    "\n",
    "Regression analysis shows limited significance for predictors like quantity, necessitating non-parametric methods due to the skewed distribution of transaction values. Key ports and shipping methods were identified as critical to improving logistics efficiency.\n",
    "\n",
    "The managerial insights emphasize strengthening key supplier and customer relationships, optimizing shipping based on weight-to-value ratios, and focusing on high-value products and markets. This data-driven approach enables better trade strategies, enhances profitability, and optimizes supply chain operations."
   ]
  },
  {
   "cell_type": "code",
   "execution_count": null,
   "id": "09991f8b-855c-41d9-aef6-d6af7548c279",
   "metadata": {},
   "outputs": [],
   "source": []
  }
 ],
 "metadata": {
  "kernelspec": {
   "display_name": "Python 3 (ipykernel)",
   "language": "python",
   "name": "python3"
  },
  "language_info": {
   "codemirror_mode": {
    "name": "ipython",
    "version": 3
   },
   "file_extension": ".py",
   "mimetype": "text/x-python",
   "name": "python",
   "nbconvert_exporter": "python",
   "pygments_lexer": "ipython3",
   "version": "3.12.4"
  }
 },
 "nbformat": 4,
 "nbformat_minor": 5
}
